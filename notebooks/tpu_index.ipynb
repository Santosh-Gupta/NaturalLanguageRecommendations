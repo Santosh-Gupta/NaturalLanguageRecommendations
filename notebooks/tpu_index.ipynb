{
  "nbformat": 4,
  "nbformat_minor": 0,
  "metadata": {
    "colab": {
      "name": "tpu index.ipynb",
      "provenance": [],
      "collapsed_sections": [],
      "include_colab_link": true
    },
    "kernelspec": {
      "name": "python3",
      "display_name": "Python 3"
    },
    "accelerator": "TPU"
  },
  "cells": [
    {
      "cell_type": "markdown",
      "metadata": {
        "id": "view-in-github",
        "colab_type": "text"
      },
      "source": [
        "<a href=\"https://colab.research.google.com/github/Santosh-Gupta/NaturalLanguageRecommendations/blob/srihari-dev/notebooks/tpu_index.ipynb\" target=\"_parent\"><img src=\"https://colab.research.google.com/assets/colab-badge.svg\" alt=\"Open In Colab\"/></a>"
      ]
    },
    {
      "cell_type": "code",
      "metadata": {
        "id": "8wAw2JV6F4Am",
        "colab_type": "code",
        "outputId": "2039f21f-3c08-4286-8ab2-418a0f5faee5",
        "colab": {
          "base_uri": "https://localhost:8080/",
          "height": 153
        }
      },
      "source": [
        "!gdown --id 1-8nsWLseynVj6Z9-E12w1ywnffnqJftm\n",
        "!gdown --id 1UszbNYQnlNrAcPQkBwvb1wKX21oRPiqb"
      ],
      "execution_count": 1,
      "outputs": [
        {
          "output_type": "stream",
          "text": [
            "Downloading...\n",
            "From: https://drive.google.com/uc?id=1-8nsWLseynVj6Z9-E12w1ywnffnqJftm\n",
            "To: /content/Uembeds306Epochs.npy\n",
            "2.59GB [00:21, 53.8MB/s]\n",
            "Downloading...\n",
            "From: https://drive.google.com/uc?id=1UszbNYQnlNrAcPQkBwvb1wKX21oRPiqb\n",
            "To: /content/Vembeds306Epochs.npy\n",
            "2.59GB [00:43, 59.1MB/s]\n"
          ],
          "name": "stdout"
        }
      ]
    },
    {
      "cell_type": "code",
      "metadata": {
        "id": "SGov6e8uGO3B",
        "colab_type": "code",
        "outputId": "1c8fdbea-4116-4728-e160-f0a96fd54510",
        "colab": {
          "base_uri": "https://localhost:8080/",
          "height": 34
        }
      },
      "source": [
        "%tensorflow_version 2.x\n",
        "from concurrent.futures import ProcessPoolExecutor\n",
        "import numpy as np\n",
        "import tensorflow as tf\n",
        "from time import time\n",
        "from tqdm import tqdm_notebook as tqdm\n",
        "print('TensorFlow:', tf.__version__)"
      ],
      "execution_count": 61,
      "outputs": [
        {
          "output_type": "stream",
          "text": [
            "TensorFlow: 2.1.0-rc1\n"
          ],
          "name": "stdout"
        }
      ]
    },
    {
      "cell_type": "code",
      "metadata": {
        "id": "iht3WQa3H_g6",
        "colab_type": "code",
        "outputId": "862e11c3-2596-4e50-d9b1-2df5f12e99eb",
        "colab": {
          "base_uri": "https://localhost:8080/",
          "height": 731
        }
      },
      "source": [
        "try:\n",
        "    tpu = tf.distribute.cluster_resolver.TPUClusterResolver()  # TPU detection\n",
        "    print('Running on TPU ', tpu.cluster_spec().as_dict()['worker'])\n",
        "except ValueError:\n",
        "    tpu = None\n",
        "\n",
        "if tpu:\n",
        "    tf.config.experimental_connect_to_cluster(tpu)\n",
        "    tf.tpu.experimental.initialize_tpu_system(tpu)\n",
        "    strategy = tf.distribute.experimental.TPUStrategy(tpu)\n",
        "else:\n",
        "    strategy = tf.distribute.MirroredStrategy()\n",
        "\n",
        "print(\"REPLICAS: \", strategy.num_replicas_in_sync)"
      ],
      "execution_count": 2,
      "outputs": [
        {
          "output_type": "stream",
          "text": [
            "Running on TPU  ['10.58.152.58:8470']\n",
            "INFO:tensorflow:Initializing the TPU system: 10.58.152.58:8470\n"
          ],
          "name": "stdout"
        },
        {
          "output_type": "stream",
          "text": [
            "INFO:tensorflow:Initializing the TPU system: 10.58.152.58:8470\n"
          ],
          "name": "stderr"
        },
        {
          "output_type": "stream",
          "text": [
            "INFO:tensorflow:Clearing out eager caches\n"
          ],
          "name": "stdout"
        },
        {
          "output_type": "stream",
          "text": [
            "INFO:tensorflow:Clearing out eager caches\n"
          ],
          "name": "stderr"
        },
        {
          "output_type": "stream",
          "text": [
            "INFO:tensorflow:Finished initializing TPU system.\n"
          ],
          "name": "stdout"
        },
        {
          "output_type": "stream",
          "text": [
            "INFO:tensorflow:Finished initializing TPU system.\n"
          ],
          "name": "stderr"
        },
        {
          "output_type": "stream",
          "text": [
            "INFO:tensorflow:Found TPU system:\n"
          ],
          "name": "stdout"
        },
        {
          "output_type": "stream",
          "text": [
            "INFO:tensorflow:Found TPU system:\n"
          ],
          "name": "stderr"
        },
        {
          "output_type": "stream",
          "text": [
            "INFO:tensorflow:*** Num TPU Cores: 8\n"
          ],
          "name": "stdout"
        },
        {
          "output_type": "stream",
          "text": [
            "INFO:tensorflow:*** Num TPU Cores: 8\n"
          ],
          "name": "stderr"
        },
        {
          "output_type": "stream",
          "text": [
            "INFO:tensorflow:*** Num TPU Workers: 1\n"
          ],
          "name": "stdout"
        },
        {
          "output_type": "stream",
          "text": [
            "INFO:tensorflow:*** Num TPU Workers: 1\n"
          ],
          "name": "stderr"
        },
        {
          "output_type": "stream",
          "text": [
            "INFO:tensorflow:*** Num TPU Cores Per Worker: 8\n"
          ],
          "name": "stdout"
        },
        {
          "output_type": "stream",
          "text": [
            "INFO:tensorflow:*** Num TPU Cores Per Worker: 8\n"
          ],
          "name": "stderr"
        },
        {
          "output_type": "stream",
          "text": [
            "INFO:tensorflow:*** Available Device: _DeviceAttributes(/job:localhost/replica:0/task:0/device:CPU:0, CPU, 0, 0)\n"
          ],
          "name": "stdout"
        },
        {
          "output_type": "stream",
          "text": [
            "INFO:tensorflow:*** Available Device: _DeviceAttributes(/job:localhost/replica:0/task:0/device:CPU:0, CPU, 0, 0)\n"
          ],
          "name": "stderr"
        },
        {
          "output_type": "stream",
          "text": [
            "INFO:tensorflow:*** Available Device: _DeviceAttributes(/job:localhost/replica:0/task:0/device:XLA_CPU:0, XLA_CPU, 0, 0)\n"
          ],
          "name": "stdout"
        },
        {
          "output_type": "stream",
          "text": [
            "INFO:tensorflow:*** Available Device: _DeviceAttributes(/job:localhost/replica:0/task:0/device:XLA_CPU:0, XLA_CPU, 0, 0)\n"
          ],
          "name": "stderr"
        },
        {
          "output_type": "stream",
          "text": [
            "INFO:tensorflow:*** Available Device: _DeviceAttributes(/job:worker/replica:0/task:0/device:CPU:0, CPU, 0, 0)\n"
          ],
          "name": "stdout"
        },
        {
          "output_type": "stream",
          "text": [
            "INFO:tensorflow:*** Available Device: _DeviceAttributes(/job:worker/replica:0/task:0/device:CPU:0, CPU, 0, 0)\n"
          ],
          "name": "stderr"
        },
        {
          "output_type": "stream",
          "text": [
            "INFO:tensorflow:*** Available Device: _DeviceAttributes(/job:worker/replica:0/task:0/device:TPU:0, TPU, 0, 0)\n"
          ],
          "name": "stdout"
        },
        {
          "output_type": "stream",
          "text": [
            "INFO:tensorflow:*** Available Device: _DeviceAttributes(/job:worker/replica:0/task:0/device:TPU:0, TPU, 0, 0)\n"
          ],
          "name": "stderr"
        },
        {
          "output_type": "stream",
          "text": [
            "INFO:tensorflow:*** Available Device: _DeviceAttributes(/job:worker/replica:0/task:0/device:TPU:1, TPU, 0, 0)\n"
          ],
          "name": "stdout"
        },
        {
          "output_type": "stream",
          "text": [
            "INFO:tensorflow:*** Available Device: _DeviceAttributes(/job:worker/replica:0/task:0/device:TPU:1, TPU, 0, 0)\n"
          ],
          "name": "stderr"
        },
        {
          "output_type": "stream",
          "text": [
            "INFO:tensorflow:*** Available Device: _DeviceAttributes(/job:worker/replica:0/task:0/device:TPU:2, TPU, 0, 0)\n"
          ],
          "name": "stdout"
        },
        {
          "output_type": "stream",
          "text": [
            "INFO:tensorflow:*** Available Device: _DeviceAttributes(/job:worker/replica:0/task:0/device:TPU:2, TPU, 0, 0)\n"
          ],
          "name": "stderr"
        },
        {
          "output_type": "stream",
          "text": [
            "INFO:tensorflow:*** Available Device: _DeviceAttributes(/job:worker/replica:0/task:0/device:TPU:3, TPU, 0, 0)\n"
          ],
          "name": "stdout"
        },
        {
          "output_type": "stream",
          "text": [
            "INFO:tensorflow:*** Available Device: _DeviceAttributes(/job:worker/replica:0/task:0/device:TPU:3, TPU, 0, 0)\n"
          ],
          "name": "stderr"
        },
        {
          "output_type": "stream",
          "text": [
            "INFO:tensorflow:*** Available Device: _DeviceAttributes(/job:worker/replica:0/task:0/device:TPU:4, TPU, 0, 0)\n"
          ],
          "name": "stdout"
        },
        {
          "output_type": "stream",
          "text": [
            "INFO:tensorflow:*** Available Device: _DeviceAttributes(/job:worker/replica:0/task:0/device:TPU:4, TPU, 0, 0)\n"
          ],
          "name": "stderr"
        },
        {
          "output_type": "stream",
          "text": [
            "INFO:tensorflow:*** Available Device: _DeviceAttributes(/job:worker/replica:0/task:0/device:TPU:5, TPU, 0, 0)\n"
          ],
          "name": "stdout"
        },
        {
          "output_type": "stream",
          "text": [
            "INFO:tensorflow:*** Available Device: _DeviceAttributes(/job:worker/replica:0/task:0/device:TPU:5, TPU, 0, 0)\n"
          ],
          "name": "stderr"
        },
        {
          "output_type": "stream",
          "text": [
            "INFO:tensorflow:*** Available Device: _DeviceAttributes(/job:worker/replica:0/task:0/device:TPU:6, TPU, 0, 0)\n"
          ],
          "name": "stdout"
        },
        {
          "output_type": "stream",
          "text": [
            "INFO:tensorflow:*** Available Device: _DeviceAttributes(/job:worker/replica:0/task:0/device:TPU:6, TPU, 0, 0)\n"
          ],
          "name": "stderr"
        },
        {
          "output_type": "stream",
          "text": [
            "INFO:tensorflow:*** Available Device: _DeviceAttributes(/job:worker/replica:0/task:0/device:TPU:7, TPU, 0, 0)\n"
          ],
          "name": "stdout"
        },
        {
          "output_type": "stream",
          "text": [
            "INFO:tensorflow:*** Available Device: _DeviceAttributes(/job:worker/replica:0/task:0/device:TPU:7, TPU, 0, 0)\n"
          ],
          "name": "stderr"
        },
        {
          "output_type": "stream",
          "text": [
            "INFO:tensorflow:*** Available Device: _DeviceAttributes(/job:worker/replica:0/task:0/device:TPU_SYSTEM:0, TPU_SYSTEM, 0, 0)\n"
          ],
          "name": "stdout"
        },
        {
          "output_type": "stream",
          "text": [
            "INFO:tensorflow:*** Available Device: _DeviceAttributes(/job:worker/replica:0/task:0/device:TPU_SYSTEM:0, TPU_SYSTEM, 0, 0)\n"
          ],
          "name": "stderr"
        },
        {
          "output_type": "stream",
          "text": [
            "INFO:tensorflow:*** Available Device: _DeviceAttributes(/job:worker/replica:0/task:0/device:XLA_CPU:0, XLA_CPU, 0, 0)\n"
          ],
          "name": "stdout"
        },
        {
          "output_type": "stream",
          "text": [
            "INFO:tensorflow:*** Available Device: _DeviceAttributes(/job:worker/replica:0/task:0/device:XLA_CPU:0, XLA_CPU, 0, 0)\n"
          ],
          "name": "stderr"
        },
        {
          "output_type": "stream",
          "text": [
            "REPLICAS:  8\n"
          ],
          "name": "stdout"
        }
      ]
    },
    {
      "cell_type": "code",
      "metadata": {
        "id": "3ks95sxuIKbR",
        "colab_type": "code",
        "outputId": "2b6d4f70-e2f8-47b3-aa65-0cff8b58157c",
        "colab": {
          "base_uri": "https://localhost:8080/",
          "height": 153
        }
      },
      "source": [
        "workers = ['/job:worker/replica:0/task:0/device:TPU:'+str(i) for i in range(8)]\n",
        "workers"
      ],
      "execution_count": 3,
      "outputs": [
        {
          "output_type": "execute_result",
          "data": {
            "text/plain": [
              "['/job:worker/replica:0/task:0/device:TPU:0',\n",
              " '/job:worker/replica:0/task:0/device:TPU:1',\n",
              " '/job:worker/replica:0/task:0/device:TPU:2',\n",
              " '/job:worker/replica:0/task:0/device:TPU:3',\n",
              " '/job:worker/replica:0/task:0/device:TPU:4',\n",
              " '/job:worker/replica:0/task:0/device:TPU:5',\n",
              " '/job:worker/replica:0/task:0/device:TPU:6',\n",
              " '/job:worker/replica:0/task:0/device:TPU:7']"
            ]
          },
          "metadata": {
            "tags": []
          },
          "execution_count": 3
        }
      ]
    },
    {
      "cell_type": "code",
      "metadata": {
        "id": "uByeXRrVO78_",
        "colab_type": "code",
        "colab": {}
      },
      "source": [
        "class Index:\n",
        "    def __init__(self, u, v, worker):\n",
        "        self.embeddings = tf.math.l2_normalize(u, axis=0) + tf.math.l2_normalize(v, axis=0)\n",
        "        self.squared_norms_embeddings = tf.expand_dims(tf.square(tf.norm(self.embeddings, axis=1)), axis=0)\n",
        "        self.worker = worker\n",
        "\n",
        "    @tf.function\n",
        "    def search(self, query_vector, top_k=None):\n",
        "      with tf.device(worker):\n",
        "        squared_norms_query_vector = tf.expand_dims(tf.square(tf.norm(query_vector, axis=1)), axis=0)\n",
        "        dot_product = tf.reduce_sum(self.embeddings * query_vector, axis=1)\n",
        "        distances = tf.maximum(self.squared_norms_embeddings + squared_norms_query_vector - 2 * dot_product, 0)\n",
        "        sorted_indices =  tf.argsort(distances)\n",
        "        if top_k:\n",
        "            sorted_indices = sorted_indices[..., :top_k]\n",
        "        nearest_distances = tf.reshape(tf.gather(distances[0], sorted_indices), shape=[-1, 1])\n",
        "        return nearest_distances[..., 0], sorted_indices[0]"
      ],
      "execution_count": 0,
      "outputs": []
    },
    {
      "cell_type": "code",
      "metadata": {
        "id": "DFloyWt7G8ts",
        "colab_type": "code",
        "outputId": "db2f5260-7102-40a6-c4db-7a05d5411059",
        "colab": {
          "base_uri": "https://localhost:8080/",
          "height": 34
        }
      },
      "source": [
        "u_embeddings = np.load('Uembeds306Epochs.npy')\n",
        "v_embeddings = np.load('Vembeds306Epochs.npy')\n",
        "u_embeddings.shape, v_embeddings.shape"
      ],
      "execution_count": 5,
      "outputs": [
        {
          "output_type": "execute_result",
          "data": {
            "text/plain": [
              "((1262996, 512), (1262996, 512))"
            ]
          },
          "metadata": {
            "tags": []
          },
          "execution_count": 5
        }
      ]
    },
    {
      "cell_type": "code",
      "metadata": {
        "id": "AB8L4sA-H2nf",
        "colab_type": "code",
        "colab": {}
      },
      "source": [
        "# Discarding last 4 vectors to make number of vectors divisible by 8\n",
        "u_embeddings = np.split(u_embeddings[:-4], 8, axis=0)\n",
        "v_embeddings = np.split(v_embeddings[:-4], 8, axis=0)"
      ],
      "execution_count": 0,
      "outputs": []
    },
    {
      "cell_type": "code",
      "metadata": {
        "id": "HoEA0SqeJW4n",
        "colab_type": "code",
        "outputId": "033473ea-139b-47df-ccd6-572255bf60bc",
        "colab": {
          "base_uri": "https://localhost:8080/",
          "height": 153
        }
      },
      "source": [
        "## Place 1/8 of total embeddings on each TPU core\n",
        "indices = []\n",
        "for i, worker in enumerate(workers):\n",
        "  with tf.device(worker):\n",
        "    print('Building index on {}'.format(worker))\n",
        "    indices.append(Index(u_embeddings[i], v_embeddings[i], worker))"
      ],
      "execution_count": 122,
      "outputs": [
        {
          "output_type": "stream",
          "text": [
            "Building index on /job:worker/replica:0/task:0/device:TPU:0\n",
            "Building index on /job:worker/replica:0/task:0/device:TPU:1\n",
            "Building index on /job:worker/replica:0/task:0/device:TPU:2\n",
            "Building index on /job:worker/replica:0/task:0/device:TPU:3\n",
            "Building index on /job:worker/replica:0/task:0/device:TPU:4\n",
            "Building index on /job:worker/replica:0/task:0/device:TPU:5\n",
            "Building index on /job:worker/replica:0/task:0/device:TPU:6\n",
            "Building index on /job:worker/replica:0/task:0/device:TPU:7\n"
          ],
          "name": "stdout"
        }
      ]
    },
    {
      "cell_type": "code",
      "metadata": {
        "id": "W5r4LmcVqGAZ",
        "colab_type": "code",
        "colab": {}
      },
      "source": [
        "def search(xq):\n",
        "  D, I = [], []\n",
        "  for i in range(8):\n",
        "    print('Search running in index: {}'.format(indices[i].worker))\n",
        "    d, idx = indices[i].search(xq, 1)\n",
        "    D.append(d.numpy()[0])\n",
        "    I.append(i*vecs_per_index + idx.numpy()[0])\n",
        "\n",
        "  id_sorted = np.argsort(D)\n",
        "  D = np.array(D)[id_sorted]\n",
        "  I = np.array(I)[id_sorted]\n",
        "  return D, I"
      ],
      "execution_count": 0,
      "outputs": []
    },
    {
      "cell_type": "code",
      "metadata": {
        "id": "_7JMlz-oisfp",
        "colab_type": "code",
        "outputId": "6bcca2a7-fb9b-431f-f5f8-e3dba64776ca",
        "colab": {
          "base_uri": "https://localhost:8080/",
          "height": 238
        }
      },
      "source": [
        "vecs_per_index = 157874\n",
        "n = 15500\n",
        "split = 0 # [0, 7] . # Pick nth vector from given split\n",
        "actual_n = vecs_per_index*split + n\n",
        "\n",
        "xq = tf.nn.l2_normalize(u_embeddings[split][n]) + tf.nn.l2_normalize(v_embeddings[split][n])\n",
        "xq = tf.reshape(xq, [1, -1])\n",
        "\n",
        "s = time()\n",
        "D, I = search(xq)\n",
        "e = time()\n",
        "\n",
        "print('Actual ID   :', actual_n)\n",
        "print('Result ID   :', I[0], '')\n",
        "\n",
        "print('Neighbors   :', I )\n",
        "print('Distances   :', np.round(D, 4))\n",
        "print('Time taken  :', np.round(e-s, 2), 'secs')"
      ],
      "execution_count": 128,
      "outputs": [
        {
          "output_type": "stream",
          "text": [
            "Search running in index: /job:worker/replica:0/task:0/device:TPU:0\n",
            "Search running in index: /job:worker/replica:0/task:0/device:TPU:1\n",
            "Search running in index: /job:worker/replica:0/task:0/device:TPU:2\n",
            "Search running in index: /job:worker/replica:0/task:0/device:TPU:3\n",
            "Search running in index: /job:worker/replica:0/task:0/device:TPU:4\n",
            "Search running in index: /job:worker/replica:0/task:0/device:TPU:5\n",
            "Search running in index: /job:worker/replica:0/task:0/device:TPU:6\n",
            "Search running in index: /job:worker/replica:0/task:0/device:TPU:7\n",
            "Actual ID   : 15500\n",
            "Result ID   : 15500 \n",
            "Neighbors   : [  15500  686470 1015284  257384  810155  630886 1123666  451210]\n",
            "Distances   : [1.8499 1.8921 1.9137 1.924  1.9367 1.9453 1.9846 2.0654]\n",
            "Time taken  : 0.24 secs\n"
          ],
          "name": "stdout"
        }
      ]
    },
    {
      "cell_type": "markdown",
      "metadata": {
        "id": "T517kc8Q0c0-",
        "colab_type": "text"
      },
      "source": [
        "#### Checking accuracy"
      ]
    },
    {
      "cell_type": "code",
      "metadata": {
        "id": "FpUfykJkxlKN",
        "colab_type": "code",
        "colab": {}
      },
      "source": [
        "random_n = np.random.randint(0, vecs_per_index, 10000)\n",
        "random_split = np.random.randint(0, 8, 10000)"
      ],
      "execution_count": 0,
      "outputs": []
    },
    {
      "cell_type": "code",
      "metadata": {
        "id": "4poe0mEdy454",
        "colab_type": "code",
        "colab": {
          "base_uri": "https://localhost:8080/",
          "height": 34
        },
        "outputId": "42f82193-4804-4231-d58a-269f75c2ea61"
      },
      "source": [
        "y_true= []\n",
        "y_pred = []\n",
        "for n, split in tqdm(zip(random_n, random_split), total=10000):\n",
        "  xq = tf.nn.l2_normalize(u_embeddings[split][n]) + tf.nn.l2_normalize(v_embeddings[split][n])\n",
        "  xq = tf.reshape(xq, [1, -1])\n",
        "  actual_n = vecs_per_index*split + n\n",
        "  D, I = [], []\n",
        "  for i in range(8):\n",
        "    d, idx = indices[i].search(xq, 1)\n",
        "    D.append(d.numpy()[0])\n",
        "    I.append(i*vecs_per_index + idx.numpy()[0])\n",
        "  id_sorted = np.argsort(D)\n",
        "  y_pred.append(np.array(I)[id_sorted])\n",
        "  y_true.append(actual_n)\n",
        "y_true = np.array(y_true)\n",
        "y_pred = np.array(y_pred)\n",
        "print('Accuracy :', np.sum(y_true == y_pred[:, 0]) / 10000)"
      ],
      "execution_count": 134,
      "outputs": [
        {
          "output_type": "stream",
          "text": [
            "Accuracy : 0.6531\n"
          ],
          "name": "stdout"
        }
      ]
    },
    {
      "cell_type": "code",
      "metadata": {
        "id": "F1WxVWL86bGN",
        "colab_type": "code",
        "colab": {}
      },
      "source": [
        ""
      ],
      "execution_count": 0,
      "outputs": []
    }
  ]
}