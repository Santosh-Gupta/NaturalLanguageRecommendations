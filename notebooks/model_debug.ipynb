{
  "nbformat": 4,
  "nbformat_minor": 0,
  "metadata": {
    "accelerator": "GPU",
    "colab": {
      "name": "model_debug.ipynb",
      "provenance": [],
      "include_colab_link": true
    },
    "kernelspec": {
      "name": "python3",
      "display_name": "Python 3"
    },
    "language_info": {
      "codemirror_mode": {
        "name": "ipython",
        "version": 3
      },
      "file_extension": ".py",
      "mimetype": "text/x-python",
      "name": "python",
      "nbconvert_exporter": "python",
      "pygments_lexer": "ipython3",
      "version": "3.6.8"
    }
  },
  "cells": [
    {
      "cell_type": "markdown",
      "metadata": {
        "id": "view-in-github",
        "colab_type": "text"
      },
      "source": [
        "<a href=\"https://colab.research.google.com/github/Santosh-Gupta/NaturalLanguageRecommendations/blob/srihari-dev/notebooks/model_debug.ipynb\" target=\"_parent\"><img src=\"https://colab.research.google.com/assets/colab-badge.svg\" alt=\"Open In Colab\"/></a>"
      ]
    },
    {
      "cell_type": "code",
      "metadata": {
        "colab_type": "code",
        "id": "QK0_IOe0LkEY",
        "outputId": "119f151a-fed0-4b42-c5fe-475b983503de",
        "colab": {
          "base_uri": "https://localhost:8080/",
          "height": 391
        }
      },
      "source": [
        "!pip install transformers --quiet\n",
        "%tensorflow_version 2.x\n",
        "!nvidia-smi"
      ],
      "execution_count": 1,
      "outputs": [
        {
          "output_type": "stream",
          "text": [
            "\u001b[K     |████████████████████████████████| 450kB 2.2MB/s \n",
            "\u001b[K     |████████████████████████████████| 860kB 11.8MB/s \n",
            "\u001b[K     |████████████████████████████████| 1.0MB 11.2MB/s \n",
            "\u001b[?25h  Building wheel for sacremoses (setup.py) ... \u001b[?25l\u001b[?25hdone\n",
            "TensorFlow 2.x selected.\n",
            "Thu Dec 26 16:45:05 2019       \n",
            "+-----------------------------------------------------------------------------+\n",
            "| NVIDIA-SMI 440.44       Driver Version: 418.67       CUDA Version: 10.1     |\n",
            "|-------------------------------+----------------------+----------------------+\n",
            "| GPU  Name        Persistence-M| Bus-Id        Disp.A | Volatile Uncorr. ECC |\n",
            "| Fan  Temp  Perf  Pwr:Usage/Cap|         Memory-Usage | GPU-Util  Compute M. |\n",
            "|===============================+======================+======================|\n",
            "|   0  Tesla P100-PCIE...  Off  | 00000000:00:04.0 Off |                    0 |\n",
            "| N/A   35C    P0    29W / 250W |      0MiB / 16280MiB |      0%      Default |\n",
            "+-------------------------------+----------------------+----------------------+\n",
            "                                                                               \n",
            "+-----------------------------------------------------------------------------+\n",
            "| Processes:                                                       GPU Memory |\n",
            "|  GPU       PID   Type   Process name                             Usage      |\n",
            "|=============================================================================|\n",
            "|  No running processes found                                                 |\n",
            "+-----------------------------------------------------------------------------+\n"
          ],
          "name": "stdout"
        }
      ]
    },
    {
      "cell_type": "code",
      "metadata": {
        "colab_type": "code",
        "id": "S_hHnz5fLiZ5",
        "outputId": "35daa83e-555f-48db-871a-c1b0098c3516",
        "colab": {
          "base_uri": "https://localhost:8080/",
          "height": 34
        }
      },
      "source": [
        "import os\n",
        "import tensorflow as tf\n",
        "from tensorflow.keras import backend as K\n",
        "from tensorflow.keras.layers import Lambda, Dense, Activation, Concatenate\n",
        "from transformers import TFBertModel\n",
        "from google.colab import auth\n",
        "\n",
        "auth.authenticate_user()\n",
        "print('TensorFlow:', tf.__version__)"
      ],
      "execution_count": 2,
      "outputs": [
        {
          "output_type": "stream",
          "text": [
            "TensorFlow: 2.1.0-rc1\n"
          ],
          "name": "stdout"
        }
      ]
    },
    {
      "cell_type": "code",
      "metadata": {
        "colab_type": "code",
        "id": "-1Mu1rsDMHCF",
        "outputId": "d604ad71-9e00-433f-b6db-bb2e2119bfb3",
        "colab": {
          "base_uri": "https://localhost:8080/",
          "height": 51
        }
      },
      "source": [
        "try:\n",
        "    tpu = tf.distribute.cluster_resolver.TPUClusterResolver()  # TPU detection\n",
        "    print('Running on TPU ', tpu.cluster_spec().as_dict()['worker'])\n",
        "except ValueError:\n",
        "    tpu = None\n",
        "\n",
        "if tpu:\n",
        "    tf.config.experimental_connect_to_cluster(tpu)\n",
        "    tf.tpu.experimental.initialize_tpu_system(tpu)\n",
        "    strategy = tf.distribute.experimental.TPUStrategy(tpu)\n",
        "else:\n",
        "    strategy = tf.distribute.MirroredStrategy()\n",
        "\n",
        "print(\"REPLICAS: \", strategy.num_replicas_in_sync)"
      ],
      "execution_count": 3,
      "outputs": [
        {
          "output_type": "stream",
          "text": [
            "INFO:tensorflow:Using MirroredStrategy with devices ('/job:localhost/replica:0/task:0/device:GPU:0',)\n",
            "REPLICAS:  1\n"
          ],
          "name": "stdout"
        }
      ]
    },
    {
      "cell_type": "code",
      "metadata": {
        "colab_type": "code",
        "id": "dYscLlW_7wIR",
        "colab": {}
      },
      "source": [
        "batch_size = 12 * strategy.num_replicas_in_sync\n",
        "embedding_dim = 512\n",
        "autotune = tf.data.experimental.AUTOTUNE\n",
        "train_steps = 1262996 // batch_size\n",
        "epochs = 100"
      ],
      "execution_count": 0,
      "outputs": []
    },
    {
      "cell_type": "code",
      "metadata": {
        "colab_type": "code",
        "id": "lEohYPP7QAK1",
        "colab": {}
      },
      "source": [
        "base_dir = 'gs://tfworld'\n",
        "model_dir = os.path.join(base_dir, 'model_files')\n",
        "tensorboard_dir = os.path.join(base_dir, 'model_files', 'logs')\n",
        "tfrecords_pattern = os.path.join(base_dir, 'tfrecords', 'train*')"
      ],
      "execution_count": 0,
      "outputs": []
    },
    {
      "cell_type": "code",
      "metadata": {
        "colab_type": "code",
        "id": "iYONEmj6LiZ9",
        "colab": {}
      },
      "source": [
        "features = {\n",
        "    'title':tf.io.VarLenFeature(dtype=tf.int64),\n",
        "    'citation':tf.io.FixedLenFeature([512], dtype=tf.float32),\n",
        "    }\n",
        "\n",
        "def parse_example(example_proto):\n",
        "    parsed_example = tf.io.parse_single_example(example_proto, features)\n",
        "    title = tf.sparse.to_dense(parsed_example['title'])\n",
        "    citation = parsed_example['citation']\n",
        "    \n",
        "    title = tf.cast(title, dtype=tf.int32)\n",
        "    citation = tf.cast(citation, dtype=tf.float32)\n",
        "    title = title[:512]\n",
        "    title = tf.pad(title, paddings=[[0, 512-tf.shape(title)[0]]])\n",
        "    return (title, citation), tf.constant([1.0], dtype=tf.float32)"
      ],
      "execution_count": 0,
      "outputs": []
    },
    {
      "cell_type": "code",
      "metadata": {
        "colab_type": "code",
        "id": "Sg8AtlNpQAK7",
        "outputId": "49122387-74be-4cbc-8d1b-244a6f8bfff0",
        "colab": {
          "base_uri": "https://localhost:8080/",
          "height": 68
        }
      },
      "source": [
        "with strategy.scope():\n",
        "    files = tf.data.Dataset.list_files(tfrecords_pattern)\n",
        "    dataset = files.interleave(tf.data.TFRecordDataset,\n",
        "                               cycle_length=16,\n",
        "                               block_length=4,\n",
        "                               num_parallel_calls=autotune)\n",
        "    dataset = dataset.map(parse_example, num_parallel_calls=autotune)\n",
        "    dataset = dataset.batch(batch_size, drop_remainder=True)\n",
        "    dataset = dataset.prefetch(autotune)\n",
        "tf.data.experimental.get_structure(dataset)"
      ],
      "execution_count": 7,
      "outputs": [
        {
          "output_type": "execute_result",
          "data": {
            "text/plain": [
              "((TensorSpec(shape=(12, None), dtype=tf.int32, name=None),\n",
              "  TensorSpec(shape=(12, 512), dtype=tf.float32, name=None)),\n",
              " TensorSpec(shape=(12, 1), dtype=tf.float32, name=None))"
            ]
          },
          "metadata": {
            "tags": []
          },
          "execution_count": 7
        }
      ]
    },
    {
      "cell_type": "code",
      "metadata": {
        "colab_type": "code",
        "id": "TidDJ55-LiZ_",
        "colab": {}
      },
      "source": [
        "@tf.function\n",
        "def loss_fn(_, probs):\n",
        "    '''\n",
        "        1. Every sample is its own positive, and  the rest of the\n",
        "            elements in the batch are its negative.\n",
        "        2. Each TPU core gets 1/8 * global_batch_size elements, hence\n",
        "            compute shape dynamically.\n",
        "        3. Dataset produces dummy labels to make sure the loss_fn matches\n",
        "            the loss signature of keras, actual labels are computed inside this\n",
        "            function.\n",
        "        4. `probs` lie in [0, 1] and are to be treated as probabilities.\n",
        "    '''\n",
        "    bs = tf.shape(probs)[0] \n",
        "    labels = tf.eye(bs, bs)\n",
        "    return tf.losses.categorical_crossentropy(labels, probs, from_logits=False)\n",
        "    \n",
        "def create_model():\n",
        "    textIds = tf.keras.Input(shape=(512,), dtype=tf.int32)    # from bert tokenizer\n",
        "    citation = tf.keras.Input(shape=(512,))                   # normalized word2vec outputs\n",
        "    \n",
        "    bert_model = TFBertModel.from_pretrained('bert-base-uncased')\n",
        "    \n",
        "    textOut = bert_model(textIds)\n",
        "    textOutMean = tf.reduce_mean(textOut[0], axis=1)\n",
        "    textOutSim = Dense(units=embedding_dim, activation='tanh', name='DenseTitle')(textOutMean)\n",
        "\n",
        "    citationSim = Dense(units=embedding_dim, activation='tanh', name='DenseCitation')(citation)\n",
        "\n",
        "    # Get dot product of each of title x citation combinations\n",
        "    dotProduct = tf.reduce_sum(tf.multiply(textOutSim[:, None, :], citationSim), axis=-1)\n",
        "    \n",
        "    # Softmax to make sure each row has sum == 1.0\n",
        "    probs = tf.nn.softmax(dotProduct, axis=-1)\n",
        "\n",
        "    model = tf.keras.Model(inputs=[textIds, citation], outputs=[probs])\n",
        "    return model"
      ],
      "execution_count": 0,
      "outputs": []
    },
    {
      "cell_type": "code",
      "metadata": {
        "colab_type": "code",
        "id": "o8MXgYFSLiaB",
        "colab": {}
      },
      "source": [
        "with strategy.scope():\n",
        "    model = create_model()\n",
        "    model.compile(loss=loss_fn, optimizer=tf.keras.optimizers.Adam(learning_rate=3e-5)"
      ],
      "execution_count": 0,
      "outputs": []
    },
    {
      "cell_type": "code",
      "metadata": {
        "id": "D3f-F4QXDmL7",
        "colab_type": "code",
        "colab": {}
      },
      "source": [
        "callbacks = [tf.keras.callbacks.TensorBoard(log_dir=tensorboard_dir, update_freq='epoch'), \n",
        "            tf.keras.callbacks.ModelCheckpoint(filepath=model_dir + '/{epoch:02d}-{loss:.2f})',\n",
        "                                               monitor='loss',\n",
        "                                               verbose=1,\n",
        "                                               save_weights_only=True,\n",
        "                                               save_freq='epoch')\n",
        "                                               ]"
      ],
      "execution_count": 0,
      "outputs": []
    },
    {
      "cell_type": "code",
      "metadata": {
        "colab_type": "code",
        "id": "p6S3kWXPLiaF",
        "colab": {
          "base_uri": "https://localhost:8080/",
          "height": 156
        },
        "outputId": "576ab892-4002-4424-b9d1-d13055c40b2d"
      },
      "source": [
        "model.fit(dataset, epochs=epochs, steps_per_epoch=train_steps, callbacks=callbacks)"
      ],
      "execution_count": 0,
      "outputs": [
        {
          "output_type": "stream",
          "text": [
            "Train for 105249 steps\n",
            "WARNING:tensorflow:Model failed to serialize as JSON. Ignoring... \n",
            "Epoch 1/100\n",
            "WARNING:tensorflow:Gradients do not exist for variables ['tf_bert_model/bert/pooler/dense/kernel:0', 'tf_bert_model/bert/pooler/dense/bias:0'] when minimizing the loss.\n",
            "WARNING:tensorflow:Gradients do not exist for variables ['tf_bert_model/bert/pooler/dense/kernel:0', 'tf_bert_model/bert/pooler/dense/bias:0'] when minimizing the loss.\n",
            "     1/105249 [..............................] - ETA: 371:12:52 - loss: 2.6111WARNING:tensorflow:Method (on_train_batch_end) is slow compared to the batch update (0.928898). Check your callbacks.\n",
            "  2604/105249 [..............................] - ETA: 22:36:56 - loss: 3.4755"
          ],
          "name": "stdout"
        }
      ]
    },
    {
      "cell_type": "code",
      "metadata": {
        "id": "B8DkqlzfDmL_",
        "colab_type": "code",
        "colab": {}
      },
      "source": [
        ""
      ],
      "execution_count": 0,
      "outputs": []
    }
  ]
}