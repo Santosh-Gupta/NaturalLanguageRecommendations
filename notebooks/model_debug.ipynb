{
 "cells": [
  {
   "cell_type": "markdown",
   "metadata": {
    "colab_type": "text",
    "id": "view-in-github"
   },
   "source": [
    "<a href=\"https://colab.research.google.com/github/Santosh-Gupta/NaturalLanguageRecommendations/blob/srihari-dev/notebooks/model_debug.ipynb\" target=\"_parent\"><img src=\"https://colab.research.google.com/assets/colab-badge.svg\" alt=\"Open In Colab\"/></a>"
   ]
  },
  {
   "cell_type": "code",
   "execution_count": null,
   "metadata": {
    "colab": {
     "base_uri": "https://localhost:8080/",
     "height": 34
    },
    "colab_type": "code",
    "id": "QK0_IOe0LkEY",
    "outputId": "51bec35b-1da5-47c0-c64b-e7d49d87f578"
   },
   "outputs": [
    {
     "name": "stdout",
     "output_type": "stream",
     "text": [
      "\u001b[33mWARNING: You are using pip version 19.2.1, however version 19.3.1 is available.\n",
      "You should consider upgrading via the 'pip install --upgrade pip' command.\u001b[0m\n"
     ]
    },
    {
     "name": "stderr",
     "output_type": "stream",
     "text": [
      "UsageError: Line magic function `%tensorflow_version` not found.\n"
     ]
    }
   ],
   "source": [
    "!pip install transformers tqdm --quiet\n",
    "%tensorflow_version 2.x"
   ]
  },
  {
   "cell_type": "code",
   "execution_count": 1,
   "metadata": {
    "colab": {
     "base_uri": "https://localhost:8080/",
     "height": 34
    },
    "colab_type": "code",
    "id": "S_hHnz5fLiZ5",
    "outputId": "1ad991c6-f66e-47bf-f9d4-73008b788daf"
   },
   "outputs": [
    {
     "name": "stdout",
     "output_type": "stream",
     "text": [
      "TensorFlow: 2.1.0-rc2\n"
     ]
    }
   ],
   "source": [
    "import os\n",
    "from tqdm.notebook import tqdm\n",
    "import tensorflow as tf\n",
    "from tensorflow.keras import backend as K\n",
    "from tensorflow.keras.layers import Lambda, Dense, Activation, Concatenate\n",
    "from transformers import TFBertModel\n",
    "\n",
    "print('TensorFlow:', tf.__version__)"
   ]
  },
  {
   "cell_type": "code",
   "execution_count": 2,
   "metadata": {
    "colab": {
     "base_uri": "https://localhost:8080/",
     "height": 748
    },
    "colab_type": "code",
    "id": "-1Mu1rsDMHCF",
    "outputId": "9f3800ed-4db0-4e7e-f6c9-444d5b656470"
   },
   "outputs": [
    {
     "name": "stdout",
     "output_type": "stream",
     "text": [
      "INFO:tensorflow:Using MirroredStrategy with devices ('/job:localhost/replica:0/task:0/device:GPU:0', '/job:localhost/replica:0/task:0/device:GPU:1')\n",
      "REPLICAS:  2\n"
     ]
    }
   ],
   "source": [
    "try:\n",
    "    tpu = tf.distribute.cluster_resolver.TPUClusterResolver()  # TPU detection\n",
    "    print('Running on TPU ', tpu.cluster_spec().as_dict()['worker'])\n",
    "except ValueError:\n",
    "    tpu = None\n",
    "\n",
    "if tpu:\n",
    "    tf.config.experimental_connect_to_cluster(tpu)\n",
    "    tf.tpu.experimental.initialize_tpu_system(tpu)\n",
    "    strategy = tf.distribute.experimental.TPUStrategy(tpu)\n",
    "else:\n",
    "    strategy = tf.distribute.MirroredStrategy()\n",
    "\n",
    "print(\"REPLICAS: \", strategy.num_replicas_in_sync)"
   ]
  },
  {
   "cell_type": "code",
   "execution_count": 3,
   "metadata": {
    "colab": {},
    "colab_type": "code",
    "id": "dYscLlW_7wIR"
   },
   "outputs": [],
   "source": [
    "batch_size = 4 * strategy.num_replicas_in_sync\n",
    "embedding_dim = 512\n",
    "autotune = tf.data.experimental.AUTOTUNE"
   ]
  },
  {
   "cell_type": "code",
   "execution_count": 4,
   "metadata": {
    "colab": {},
    "colab_type": "code",
    "id": "lEohYPP7QAK1"
   },
   "outputs": [],
   "source": [
    "base_dir = '../TfRecords'\n",
    "tfrecords_pattern = os.path.join(base_dir, 'train*')"
   ]
  },
  {
   "cell_type": "code",
   "execution_count": 5,
   "metadata": {
    "colab": {},
    "colab_type": "code",
    "id": "iYONEmj6LiZ9"
   },
   "outputs": [],
   "source": [
    "features = {\n",
    "    'title':tf.io.VarLenFeature(dtype=tf.int64),\n",
    "    'citation':tf.io.FixedLenFeature([512], dtype=tf.float32),\n",
    "    }\n",
    "\n",
    "def parse_example(example_proto):\n",
    "    parsed_example = tf.io.parse_single_example(example_proto, features)\n",
    "    title = tf.sparse.to_dense(parsed_example['title'])\n",
    "    citation = parsed_example['citation']\n",
    "    \n",
    "    title = tf.cast(title, dtype=tf.int32)\n",
    "    citation = tf.cast(citation, dtype=tf.float32)\n",
    "    title = title[:512]\n",
    "    title = tf.pad(title, paddings=[[0, 512-tf.shape(title)[0]]])\n",
    "    return (title, citation), tf.constant([1.0], dtype=tf.float32)"
   ]
  },
  {
   "cell_type": "code",
   "execution_count": 6,
   "metadata": {
    "colab": {},
    "colab_type": "code",
    "id": "Sg8AtlNpQAK7",
    "outputId": "af4bd98e-3565-4618-f34e-859808917a09"
   },
   "outputs": [
    {
     "data": {
      "text/plain": [
       "((TensorSpec(shape=(8, None), dtype=tf.int32, name=None),\n",
       "  TensorSpec(shape=(8, 512), dtype=tf.float32, name=None)),\n",
       " TensorSpec(shape=(8, 1), dtype=tf.float32, name=None))"
      ]
     },
     "execution_count": 6,
     "metadata": {},
     "output_type": "execute_result"
    }
   ],
   "source": [
    "with strategy.scope():\n",
    "    files = tf.data.Dataset.list_files(tfrecords_pattern)\n",
    "    dataset = files.interleave(tf.data.TFRecordDataset,\n",
    "                               cycle_length=16,\n",
    "                               block_length=4,\n",
    "                               num_parallel_calls=autotune)\n",
    "    dataset = dataset.map(parse_example, num_parallel_calls=autotune)\n",
    "    dataset = dataset.batch(batch_size, drop_remainder=True)\n",
    "    dataset = dataset.prefetch(autotune)\n",
    "tf.data.experimental.get_structure(dataset)"
   ]
  },
  {
   "cell_type": "code",
   "execution_count": 7,
   "metadata": {
    "colab": {},
    "colab_type": "code",
    "id": "TidDJ55-LiZ_"
   },
   "outputs": [],
   "source": [
    "@tf.function\n",
    "def loss_fn(_, probs):\n",
    "    '''\n",
    "        1. Every sample is its own positive, and  the rest of the\n",
    "            elements in the batch are its negative.\n",
    "        2. Each TPU core gets 1/8 * global_batch_size elements, hence\n",
    "            compute shape dynamically.\n",
    "        3. Dataset produces dummy labels to make sure the loss_fn matches\n",
    "            the loss signature of keras, actual labels are computed inside this\n",
    "            function.\n",
    "        4. `probs` lie in [0, 1] and are to be treated as probabilities.\n",
    "    '''\n",
    "    bs = tf.shape(probs)[0] \n",
    "    labels = tf.eye(bs, bs)\n",
    "    return tf.losses.categorical_crossentropy(labels, probs, from_logits=False)\n",
    "    \n",
    "def create_model():\n",
    "    textIds = tf.keras.Input(shape=(512,), dtype=tf.int32)    # from bert tokenizer\n",
    "    citation = tf.keras.Input(shape=(512,))                   # normalized word2vec outputs\n",
    "    \n",
    "    bert_model = TFBertModel.from_pretrained('bert-base-uncased')\n",
    "    \n",
    "    textOut = bert_model(textIds)\n",
    "    textOutMean = tf.reduce_mean(textOut[0], axis=1)\n",
    "    textOutSim = Dense(units=embedding_dim, activation='tanh', name='DenseTitle')(textOutMean)\n",
    "\n",
    "    citationSim = Dense(units=embedding_dim, activation='tanh', name='DenseCitation')(citation)\n",
    "\n",
    "    # Get dot product of each of title x citation combinations\n",
    "    dotProduct = tf.reduce_sum(tf.multiply(textOutSim[:, None, :], citationSim), axis=-1)\n",
    "    \n",
    "    # Softmax to make sure each row has sum == 1.0\n",
    "    probs = tf.nn.softmax(dotProduct, axis=-1)\n",
    "\n",
    "    model = tf.keras.Model(inputs=[textIds, citation], outputs=[probs])\n",
    "    return model"
   ]
  },
  {
   "cell_type": "code",
   "execution_count": 8,
   "metadata": {
    "colab": {},
    "colab_type": "code",
    "id": "o8MXgYFSLiaB",
    "outputId": "83021819-19c2-44c8-d8de-913e8dd4d6a4"
   },
   "outputs": [],
   "source": [
    "with strategy.scope():\n",
    "    model = create_model()\n",
    "    model.compile(loss=loss_fn, optimizer=tf.optimizers.Adam())"
   ]
  },
  {
   "cell_type": "code",
   "execution_count": 9,
   "metadata": {
    "colab": {},
    "colab_type": "code",
    "id": "p6S3kWXPLiaF"
   },
   "outputs": [
    {
     "name": "stdout",
     "output_type": "stream",
     "text": [
      "Train for 20 steps\n",
      "Epoch 1/5\n",
      "WARNING:tensorflow:Gradients do not exist for variables ['tf_bert_model/bert/pooler/dense/kernel:0', 'tf_bert_model/bert/pooler/dense/bias:0'] when minimizing the loss.\n",
      "WARNING:tensorflow:Gradients do not exist for variables ['tf_bert_model/bert/pooler/dense/kernel:0', 'tf_bert_model/bert/pooler/dense/bias:0'] when minimizing the loss.\n",
      "INFO:tensorflow:batch_all_reduce: 198 all-reduces with algorithm = nccl, num_packs = 1, agg_small_grads_max_bytes = 0 and agg_small_grads_max_group = 10\n",
      "WARNING:tensorflow:Efficient allreduce is not supported for 3 IndexedSlices\n",
      "INFO:tensorflow:Reduce to /job:localhost/replica:0/task:0/device:GPU:0 then broadcast to ('/job:localhost/replica:0/task:0/device:GPU:0', '/job:localhost/replica:0/task:0/device:GPU:1').\n",
      "INFO:tensorflow:Reduce to /job:localhost/replica:0/task:0/device:GPU:0 then broadcast to ('/job:localhost/replica:0/task:0/device:GPU:0', '/job:localhost/replica:0/task:0/device:GPU:1').\n",
      "INFO:tensorflow:Reduce to /job:localhost/replica:0/task:0/device:GPU:0 then broadcast to ('/job:localhost/replica:0/task:0/device:GPU:0', '/job:localhost/replica:0/task:0/device:GPU:1').\n",
      "INFO:tensorflow:Reduce to /job:localhost/replica:0/task:0/device:CPU:0 then broadcast to ('/job:localhost/replica:0/task:0/device:CPU:0',).\n",
      "INFO:tensorflow:Reduce to /job:localhost/replica:0/task:0/device:CPU:0 then broadcast to ('/job:localhost/replica:0/task:0/device:CPU:0',).\n",
      "WARNING:tensorflow:Gradients do not exist for variables ['tf_bert_model/bert/pooler/dense/kernel:0', 'tf_bert_model/bert/pooler/dense/bias:0'] when minimizing the loss.\n",
      "WARNING:tensorflow:Gradients do not exist for variables ['tf_bert_model/bert/pooler/dense/kernel:0', 'tf_bert_model/bert/pooler/dense/bias:0'] when minimizing the loss.\n",
      "INFO:tensorflow:batch_all_reduce: 198 all-reduces with algorithm = nccl, num_packs = 1, agg_small_grads_max_bytes = 0 and agg_small_grads_max_group = 10\n",
      "WARNING:tensorflow:Efficient allreduce is not supported for 3 IndexedSlices\n",
      "INFO:tensorflow:Reduce to /job:localhost/replica:0/task:0/device:GPU:0 then broadcast to ('/job:localhost/replica:0/task:0/device:GPU:0', '/job:localhost/replica:0/task:0/device:GPU:1').\n",
      "INFO:tensorflow:Reduce to /job:localhost/replica:0/task:0/device:GPU:0 then broadcast to ('/job:localhost/replica:0/task:0/device:GPU:0', '/job:localhost/replica:0/task:0/device:GPU:1').\n",
      "INFO:tensorflow:Reduce to /job:localhost/replica:0/task:0/device:GPU:0 then broadcast to ('/job:localhost/replica:0/task:0/device:GPU:0', '/job:localhost/replica:0/task:0/device:GPU:1').\n",
      "INFO:tensorflow:Reduce to /job:localhost/replica:0/task:0/device:CPU:0 then broadcast to ('/job:localhost/replica:0/task:0/device:CPU:0',).\n",
      "INFO:tensorflow:Reduce to /job:localhost/replica:0/task:0/device:CPU:0 then broadcast to ('/job:localhost/replica:0/task:0/device:CPU:0',).\n",
      "20/20 [==============================] - 24s 1s/step - loss: 1.7441\n",
      "Epoch 2/5\n",
      "20/20 [==============================] - 8s 379ms/step - loss: 1.8778\n",
      "Epoch 3/5\n",
      "20/20 [==============================] - 7s 374ms/step - loss: 1.8437\n",
      "Epoch 4/5\n",
      "20/20 [==============================] - 7s 374ms/step - loss: 1.7058\n",
      "Epoch 5/5\n",
      "20/20 [==============================] - 8s 376ms/step - loss: 1.6434\n"
     ]
    },
    {
     "data": {
      "text/plain": [
       "<tensorflow.python.keras.callbacks.History at 0x7f324c5503c8>"
      ]
     },
     "execution_count": 9,
     "metadata": {},
     "output_type": "execute_result"
    }
   ],
   "source": [
    "model.fit(dataset, epochs=5, steps_per_epoch=20)"
   ]
  },
  {
   "cell_type": "code",
   "execution_count": null,
   "metadata": {},
   "outputs": [],
   "source": []
  }
 ],
 "metadata": {
  "accelerator": "TPU",
  "colab": {
   "include_colab_link": true,
   "name": "model_debug.ipynb",
   "provenance": []
  },
  "kernelspec": {
   "display_name": "Python 3",
   "language": "python",
   "name": "python3"
  },
  "language_info": {
   "codemirror_mode": {
    "name": "ipython",
    "version": 3
   },
   "file_extension": ".py",
   "mimetype": "text/x-python",
   "name": "python",
   "nbconvert_exporter": "python",
   "pygments_lexer": "ipython3",
   "version": "3.6.8"
  },
  "widgets": {
   "application/vnd.jupyter.widget-state+json": {
    "state": {},
    "version_major": 2,
    "version_minor": 0
   }
  }
 },
 "nbformat": 4,
 "nbformat_minor": 4
}
