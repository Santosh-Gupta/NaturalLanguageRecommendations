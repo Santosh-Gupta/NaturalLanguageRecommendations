{
 "cells": [
  {
   "cell_type": "markdown",
   "metadata": {
    "colab_type": "text",
    "id": "view-in-github"
   },
   "source": [
    "<a href=\"https://colab.research.google.com/github/Santosh-Gupta/NaturalLanguageRecommendations/blob/srihari-dev/notebooks/tfrecords_debug.ipynb\" target=\"_parent\"><img src=\"https://colab.research.google.com/assets/colab-badge.svg\" alt=\"Open In Colab\"/></a>"
   ]
  },
  {
   "cell_type": "code",
   "execution_count": 1,
   "metadata": {
    "colab": {
     "base_uri": "https://localhost:8080/",
     "height": 34
    },
    "colab_type": "code",
    "id": "QK0_IOe0LkEY",
    "outputId": "9c211742-51cf-4fd8-e9e8-452a812737f4"
   },
   "outputs": [
    {
     "name": "stderr",
     "output_type": "stream",
     "text": [
      "UsageError: Line magic function `%tensorflow_version` not found.\n"
     ]
    }
   ],
   "source": [
    "%tensorflow_version 2.x"
   ]
  },
  {
   "cell_type": "code",
   "execution_count": 2,
   "metadata": {
    "colab": {
     "base_uri": "https://localhost:8080/",
     "height": 34
    },
    "colab_type": "code",
    "id": "S_hHnz5fLiZ5",
    "outputId": "105d9ee2-0c9c-4700-e3b6-47b8d669336e"
   },
   "outputs": [
    {
     "name": "stdout",
     "output_type": "stream",
     "text": [
      "TensorFlow: 2.0.0\n"
     ]
    }
   ],
   "source": [
    "import tensorflow as tf\n",
    "from tqdm import tqdm_notebook as tqdm\n",
    "import os\n",
    "\n",
    "print('TensorFlow:', tf.__version__)"
   ]
  },
  {
   "cell_type": "code",
   "execution_count": 3,
   "metadata": {
    "colab": {},
    "colab_type": "code",
    "id": "1d9orC2vS5Tr"
   },
   "outputs": [],
   "source": [
    "batch_size  = 8\n",
    "embedding_dim = 512\n",
    "autotune = tf.data.experimental.AUTOTUNE"
   ]
  },
  {
   "cell_type": "code",
   "execution_count": 4,
   "metadata": {
    "colab": {},
    "colab_type": "code",
    "id": "iYONEmj6LiZ9"
   },
   "outputs": [],
   "source": [
    "def get_random_title():\n",
    "    return tf.random.uniform(shape=[512], maxval=200, dtype=tf.int32)\n",
    "\n",
    "def get_random_citation():\n",
    "    vector = tf.random.uniform(shape=[embedding_dim], minval=-1, maxval=1, dtype=tf.float32)\n",
    "    normed_vector = tf.math.l2_normalize(vector)\n",
    "    return normed_vector\n",
    "\n",
    "def generate_sample():\n",
    "    title = get_random_title()\n",
    "    posCitations = get_random_citation()\n",
    "    return title, posCitations"
   ]
  },
  {
   "cell_type": "code",
   "execution_count": 6,
   "metadata": {
    "colab": {},
    "colab_type": "code",
    "id": "6hDwsTD5S5Tv"
   },
   "outputs": [],
   "source": [
    "class TFrecordWriter:\n",
    "    def __init__(self,\n",
    "                 n_samples,\n",
    "                 n_shards,\n",
    "                 output_dir='',\n",
    "                 prefix=''):\n",
    "        self.n_samples = n_samples\n",
    "        self.n_shards = n_shards\n",
    "        self.step_size = self.n_samples//self.n_shards + 1\n",
    "        self.prefix = prefix\n",
    "        self.output_dir = output_dir\n",
    "        self.buffer = []\n",
    "        self.file_count = 1\n",
    "        \n",
    "    def make_example(self, title, vector):\n",
    "        feature = {\n",
    "            'title': tf.train.Feature(int64_list=tf.train.Int64List(value=title)),\n",
    "            'citation': tf.train.Feature(float_list=tf.train.FloatList(value=vector))\n",
    "        }\n",
    "        return tf.train.Example(features=tf.train.Features(feature=feature))\n",
    "        \n",
    "    def write_tfrecord(self, tfrecord_path):\n",
    "        print('writing {} samples in {}'.format(len(self.buffer), tfrecord_path))\n",
    "        with tf.io.TFRecordWriter(tfrecord_path) as writer:\n",
    "            for (title, vector) in tqdm(self.buffer):\n",
    "                example = self.make_example(title, vector)\n",
    "                writer.write(example.SerializeToString())\n",
    "    \n",
    "    def push(self, title, vector):\n",
    "        self.buffer.append([title, vector])\n",
    "        if len(self.buffer) == self.step_size:\n",
    "            fname = self.prefix + '_000' + str(self.file_count) + '.tfrecord'\n",
    "            tfrecord_path = os.path.join(self.output_dir, fname)\n",
    "            self.write_tfrecord(tfrecord_path)\n",
    "            self.clear_buffer()\n",
    "            self.file_count += 1\n",
    "            \n",
    "    def flush_last(self):\n",
    "        if len(self.buffer):\n",
    "            fname = self.prefix + '_000' + str(self.file_count) + '.tfrecord'\n",
    "            tfrecord_path = os.path.join(self.output_dir, fname)\n",
    "            self.write_tfrecord(tfrecord_path)\n",
    "            \n",
    "    def clear_buffer(self):\n",
    "        self.buffer = []"
   ]
  },
  {
   "cell_type": "code",
   "execution_count": 7,
   "metadata": {
    "colab": {},
    "colab_type": "code",
    "id": "d0-G4yukS5Tx"
   },
   "outputs": [],
   "source": [
    "!mkdir 'tfrecords'\n",
    "tfrecord_writer = TFrecordWriter(1000, 4, 'tfrecords', 'train')"
   ]
  },
  {
   "cell_type": "code",
   "execution_count": 8,
   "metadata": {
    "colab": {
     "base_uri": "https://localhost:8080/",
     "height": 1000,
     "referenced_widgets": [
      "571fdcfd73f140898380a7615f4b891f",
      "c459b83831354e1eb06bd702d7706f34",
      "186100bec2e9404a855672114e2b9237",
      "ae77968ebdc34c88a7c74050c5698fb6",
      "a125d1cf5a3e45fd96bf1eb31047104d",
      "4c58c1ef413c4477a523d91951c91979",
      "ab50e4fc295f4c2ba714dbb4d70d568e",
      "6bdb266c226a44a59264abd8d6ac4b30",
      "b472b582bbe840a081ff2dd8fd3f2ae5",
      "43a93f68343640eab24838c7c96a7436",
      "e407c28cea89485bb41721789dc952df",
      "211f913e65ba4dfe99a233ca14f95e78",
      "c4ef17c618be4d5aaf3612385abd56eb",
      "8948b8dfc18d4c449d6baeb44ff5d350",
      "cc6c42edc27d44e1af90519324b4918b",
      "29c713a3b75b428891024d24307b35d8",
      "b0d62a5157e94754b21704d9b6e24e39",
      "5877525f104b4e7890de53886088a8e5",
      "59846ac3b21a4f62a96d05d27fb99286",
      "fa84376fd28f4f45ab21f43307f0aa86",
      "7d8221302dd84e03b11f46acddd3c552",
      "dbe29203dad545a2a578c05a5b1203fa",
      "6ad0bc711c8f4373be4e8980a2ed267a",
      "fcec2fa19ddd48dc9e563ba2e003f41e",
      "648b766e7596437db3b42821b571ac86",
      "2a2b83751d154af7a9c34b7e06469492",
      "b4d968b6c06047b7b9389845804d5cad",
      "1e56c59524504700ba42bdd32aed76d2",
      "a552c6bc81e64df4b5615f8c6cb5710f",
      "8f00ba59569b4c3fbd3f293555ec486a",
      "49e03462281440ad8203670e5927a517",
      "0a0ef7de6b3140f48768b57208071adc",
      "3f4f02e12c704d3ca920b610d2f72b18",
      "32f4f4519f864205a2ebef469373e392",
      "842d88cc6d69424fb23840e5e3c52a0a",
      "18e685f7865b475fac2216279108de0c",
      "2b0e9294f39c489c9d7ef706d727e7af",
      "7aecb4b66fb0460c9a5f49080ff5639e",
      "039256722aed4aaf92fbc23412f272b2",
      "53728d2634ba46e0882149085946215f",
      "a22b500f733a4ecaa05e759efc665791",
      "c1926335b7254e70bb9e0d9d63f15cf1",
      "b02e734bd35f4c1cb9d11d6b5f75cae0",
      "891f99b858ff4d2baa944bbc63741bb1",
      "bd2f6b45affd4be4bcf96e2cb3fb3f73",
      "7d1e9e6b5d2241f4a844f94fc8fdde8a",
      "859924f71226469ea98a13324251b1af",
      "b427ac6a762d472cbaa9a406126629d5",
      "1ad203c086514394a1edb87f0aae790e",
      "71432b5d85ed4c3db401c9093bdfb33a",
      "2fedbd6add144ef0ba9755064acabd54",
      "89c9b245c1f546e5baae500878428ec8",
      "e12fbb49e7eb449bb02c298f197d1d7d",
      "545309513e5740878c9e3c18d3ff139b",
      "bf29f8f29b1e48b0b0ee0d91be3f9322",
      "74068b6c2ae14d69919f51b54398deb6",
      "85145d0f111b47c89f66d34051819578",
      "82c7973c8cac40678528302925e98ed0",
      "d7e0e9e08ceb43458665f3f0a3df9a8f",
      "2b4f4fa593984b28b65885a46fd57f53",
      "ea98cf874ede42c2afe5252b5b5162cc",
      "44a56d3218ca4e6da401bf6cb853362e",
      "29d10197e340479e8fdaf2f9b4a2b4ff",
      "8d421553642c4c6a845afdad16a77fad",
      "7cbc303b0d834aab9d50d627502f74b9",
      "fdf8fd6e2f0f4794bd7bfa04b04bfdee",
      "4df9870358ce4f759563ed4762c50390",
      "8ded66f3746143eb87c59ad58f782829",
      "3df4f6b79bd94e3295761994abcaf6ff",
      "d389bd68ed7d4102ba9ef4eb9cd8cab7",
      "350d6612e4ff469884e74b32bc45906a",
      "de4c8c1f7ca245bc8328f07ab5c7ab4e",
      "9d56cdfc98f74a6dad8b9585aaa8c146",
      "f08c432f546e440c92a9a3c6c0b7725c",
      "bcaa95853b3a4a3caaee8a2c4b97a2ba",
      "575f14c8f31247889f149b16f0613ed3",
      "3515a5812c0b4281a09d500261b69d7f",
      "f1b12589109f4cd09d20c86e5a9a6247",
      "801d6bfda9c84f9f804d239627ec4739",
      "094031bb9e004e32b48764a4b3ce5593",
      "d20cec67aad44d0aac012c4d6df4849d",
      "c26df9e7f606425f94da1ebb96283296",
      "1b32f738278b410a9183af804091d810",
      "05693f0785f4446ba3fea3621c0abd90",
      "e6e54dc3d19a4a92a4b405da9512ce45",
      "5488dad2be4f416b96f4b143294222d6",
      "63beb9e643b64dbbb76a400f4dbe49cc",
      "c8e8ed5230b14ae6bb88ab6dc8d878c2",
      "86dca666d05f40b882cf76314430ef4b",
      "9af432dfa1d24ff4935e91ff3704b232",
      "775e13c4f72e4700867d40d031d82e65",
      "25b4131c04c34f90b6d6f403e52145f6",
      "914c3bd36bfd4c0d8cbfb46af411e16d",
      "a5b347586a444c3baf93979351db91bf",
      "bc5a7773fd024f57b0c93ca603a85db2",
      "3220373463444d2b820df4eb5f0dca5e",
      "f402ce76096e45bb89db640ef8410848",
      "aeae3d83f1ec45ccb62ad43b99c7c94d",
      "369d6a31be0b454a9d05d44c138c131c",
      "49d84c841e184ff487f756c9a0e18b97",
      "b38386e3ff7d446e88c4ee5716413002",
      "a9808e675c934f0ca93cea336ef330d0",
      "412199da8a294f2f8036ce1bb2756505",
      "e61bbd3e4bdb499dba9c9ac4d7497120",
      "9cc080ab6e734b8b9db5c684cc5303ce",
      "6678878a1a2143738d58bf2528936d6a",
      "e7e92fd4d2b94a1cb9576a495a34eb56",
      "87f1a32b5bf9424baaab349226a6dff2",
      "d36f741cb4e448b6915b63f3ff1340ff",
      "e0d4f7adabec492092a78c1038bbddaa",
      "033e44519d07457d86cfc4fe7757636f",
      "97d4cea967d84dd087bd3a1c9efdbf68",
      "3c79a302616c497bba4afd1ada4cb0b6",
      "712ecaa3c9304ab9aa1c414aa86c0689",
      "01bb16f673bf43119f56c764baadac53",
      "5e28295ea30f41539fadd24480330115",
      "0abf9d419b934be3a1b3c61079207019",
      "54f14a7163bd4ca7b023e31f387b0a6a",
      "8619dc98ccd043e88cd5c289a7ae99c7",
      "23c5f001806e4e82a96fc9f11b18a903",
      "f206a791c1e74586a63d891d04883eb4",
      "1daadb88ce8b41d4ad3960659df9f42b",
      "e84113d409804318b38a27b5ad24c9b3",
      "9d5b52e80eb940218a92049f66a966bf",
      "20af83e68c2e473590adf7de4a522949",
      "d2df6adb047b415d83cbba90bb9020b3",
      "a1c8fd5b4c634e78aa6ca21c94fe3efd",
      "b0c8a2422c9446849b16ea7cd2c2b530"
     ]
    },
    "colab_type": "code",
    "id": "-2D3-6KFS5T0",
    "outputId": "edd11383-6325-4740-d28a-23398e655b17"
   },
   "outputs": [
    {
     "name": "stdout",
     "output_type": "stream",
     "text": [
      "writing 251 samples in tfrecords/train_0001.tfrecord\n"
     ]
    },
    {
     "name": "stderr",
     "output_type": "stream",
     "text": [
      "/Users/srihari/tf2.0/lib/python3.6/site-packages/ipykernel_launcher.py:25: TqdmDeprecationWarning: This function will be removed in tqdm==5.0.0\n",
      "Please use `tqdm.notebook.tqdm` instead of `tqdm.tqdm_notebook`\n"
     ]
    },
    {
     "data": {
      "application/vnd.jupyter.widget-view+json": {
       "model_id": "7f366b6e4bc44869acf1f4916a3c3c20",
       "version_major": 2,
       "version_minor": 0
      },
      "text/plain": [
       "HBox(children=(IntProgress(value=0, max=251), HTML(value='')))"
      ]
     },
     "metadata": {},
     "output_type": "display_data"
    },
    {
     "name": "stdout",
     "output_type": "stream",
     "text": [
      "\n",
      "writing 251 samples in tfrecords/train_0002.tfrecord\n"
     ]
    },
    {
     "data": {
      "application/vnd.jupyter.widget-view+json": {
       "model_id": "b1dab0c4cc00499db6dc6804339e49f3",
       "version_major": 2,
       "version_minor": 0
      },
      "text/plain": [
       "HBox(children=(IntProgress(value=0, max=251), HTML(value='')))"
      ]
     },
     "metadata": {},
     "output_type": "display_data"
    },
    {
     "name": "stdout",
     "output_type": "stream",
     "text": [
      "\n",
      "writing 251 samples in tfrecords/train_0003.tfrecord\n"
     ]
    },
    {
     "data": {
      "application/vnd.jupyter.widget-view+json": {
       "model_id": "cbcb837dc4114a3c9057c8e4994d12a6",
       "version_major": 2,
       "version_minor": 0
      },
      "text/plain": [
       "HBox(children=(IntProgress(value=0, max=251), HTML(value='')))"
      ]
     },
     "metadata": {},
     "output_type": "display_data"
    },
    {
     "name": "stdout",
     "output_type": "stream",
     "text": [
      "\n",
      "writing 247 samples in tfrecords/train_0004.tfrecord\n"
     ]
    },
    {
     "data": {
      "application/vnd.jupyter.widget-view+json": {
       "model_id": "e69a6d3ebe734cebb3c5de1526545bd7",
       "version_major": 2,
       "version_minor": 0
      },
      "text/plain": [
       "HBox(children=(IntProgress(value=0, max=247), HTML(value='')))"
      ]
     },
     "metadata": {},
     "output_type": "display_data"
    },
    {
     "name": "stdout",
     "output_type": "stream",
     "text": [
      "\n"
     ]
    }
   ],
   "source": [
    "for i in range(1000):\n",
    "    title, vector = generate_sample()\n",
    "    tfrecord_writer.push(title, vector)\n",
    "tfrecord_writer.flush_last()"
   ]
  },
  {
   "cell_type": "code",
   "execution_count": null,
   "metadata": {
    "colab": {},
    "colab_type": "code",
    "id": "NwA4RriLS5T2"
   },
   "outputs": [],
   "source": []
  }
 ],
 "metadata": {
  "accelerator": "TPU",
  "colab": {
   "include_colab_link": true,
   "name": "model_debug.ipynb",
   "provenance": []
  },
  "kernelspec": {
   "display_name": "Python 3",
   "language": "python",
   "name": "python3"
  },
  "language_info": {
   "codemirror_mode": {
    "name": "ipython",
    "version": 3
   },
   "file_extension": ".py",
   "mimetype": "text/x-python",
   "name": "python",
   "nbconvert_exporter": "python",
   "pygments_lexer": "ipython3",
   "version": "3.6.8"
  },
  "widgets": {
   "application/vnd.jupyter.widget-state+json": {
    "state": {},
    "version_major": 2,
    "version_minor": 0
   }
  }
 },
 "nbformat": 4,
 "nbformat_minor": 4
}
