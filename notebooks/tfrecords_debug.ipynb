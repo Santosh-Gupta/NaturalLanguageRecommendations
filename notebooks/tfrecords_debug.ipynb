{
 "cells": [
  {
   "cell_type": "markdown",
   "metadata": {
    "colab_type": "text",
    "id": "view-in-github"
   },
   "source": [
    "<a href=\"https://colab.research.google.com/github/Santosh-Gupta/NaturalLanguageRecommendations/blob/srihari-dev/notebooks/model_debug.ipynb\" target=\"_parent\"><img src=\"https://colab.research.google.com/assets/colab-badge.svg\" alt=\"Open In Colab\"/></a>"
   ]
  },
  {
   "cell_type": "code",
   "execution_count": 1,
   "metadata": {
    "colab": {
     "base_uri": "https://localhost:8080/",
     "height": 102
    },
    "colab_type": "code",
    "id": "QK0_IOe0LkEY",
    "outputId": "a93f7933-9e96-44f3-b3d3-8c9b34ce0729"
   },
   "outputs": [
    {
     "name": "stderr",
     "output_type": "stream",
     "text": [
      "UsageError: Line magic function `%tensorflow_version` not found.\n"
     ]
    }
   ],
   "source": [
    "%tensorflow_version 2.x"
   ]
  },
  {
   "cell_type": "code",
   "execution_count": 2,
   "metadata": {
    "colab": {
     "base_uri": "https://localhost:8080/",
     "height": 34
    },
    "colab_type": "code",
    "id": "S_hHnz5fLiZ5",
    "outputId": "46ff45b2-dbc8-4581-ff79-9d223fde1807"
   },
   "outputs": [
    {
     "name": "stdout",
     "output_type": "stream",
     "text": [
      "TensorFlow: 2.1.0-rc0\n"
     ]
    }
   ],
   "source": [
    "import tensorflow as tf\n",
    "from tqdm.notebook import tqdm\n",
    "import os\n",
    "\n",
    "print('TensorFlow:', tf.__version__)"
   ]
  },
  {
   "cell_type": "code",
   "execution_count": 3,
   "metadata": {},
   "outputs": [],
   "source": [
    "batch_size  = 8\n",
    "embedding_dim = 512\n",
    "autotune = tf.data.experimental.AUTOTUNE"
   ]
  },
  {
   "cell_type": "code",
   "execution_count": 4,
   "metadata": {
    "colab": {},
    "colab_type": "code",
    "id": "iYONEmj6LiZ9"
   },
   "outputs": [],
   "source": [
    "def get_random_title():\n",
    "    return tf.random.uniform(shape=[512], maxval=200, dtype=tf.int32)\n",
    "\n",
    "def get_random_citation():\n",
    "    vector = tf.random.uniform(shape=[embedding_dim], minval=-1, maxval=1, dtype=tf.float32)\n",
    "    normed_vector = tf.math.l2_normalize(vector)\n",
    "    return normed_vector\n",
    "\n",
    "def generate_sample():\n",
    "    title = get_random_title()\n",
    "    posCitations = get_random_citation()\n",
    "    return title, posCitations"
   ]
  },
  {
   "cell_type": "code",
   "execution_count": 5,
   "metadata": {},
   "outputs": [],
   "source": [
    "class TFrecordWriter:\n",
    "    def __init__(self,\n",
    "                 n_samples,\n",
    "                 n_shards,\n",
    "                 output_dir='',\n",
    "                 prefix=''):\n",
    "        self.n_samples = n_samples\n",
    "        self.n_shards = n_shards\n",
    "        self.step_size = self.n_samples//self.n_shards + 1\n",
    "        self.prefix = prefix\n",
    "        self.output_dir = output_dir\n",
    "        self.buffer = []\n",
    "        self.file_count = 1\n",
    "        \n",
    "    def make_example(self, title, vector):\n",
    "        feature = {\n",
    "            'title': tf.train.Feature(int64_list=tf.train.Int64List(value=title)),\n",
    "            'citation': tf.train.Feature(float_list=tf.train.FloatList(value=vector))\n",
    "        }\n",
    "        return tf.train.Example(features=tf.train.Features(feature=feature))\n",
    "        \n",
    "    def write_tfrecord(self, tfrecord_path):\n",
    "        print('writing {} samples in {}'.format(len(self.buffer), tfrecord_path))\n",
    "        with tf.io.TFRecordWriter(tfrecord_path) as writer:\n",
    "            for (title, vector) in tqdm(self.buffer):\n",
    "                example = self.make_example(title, vector)\n",
    "                writer.write(example.SerializeToString())\n",
    "    \n",
    "    def push(self, title, vector):\n",
    "        self.buffer.append([title, vector])\n",
    "        if len(self.buffer) == self.step_size:\n",
    "            fname = self.prefix + '_000' + str(self.file_count) + '.tfrecord'\n",
    "            tfrecord_path = os.path.join(self.output_dir, fname)\n",
    "            self.write_tfrecord(tfrecord_path)\n",
    "            self.clear_buffer()\n",
    "            self.file_count += 1\n",
    "            \n",
    "    def flush_last(self):\n",
    "        fname = self.prefix + '_000' + str(self.file_count) + '.tfrecord'\n",
    "        tfrecord_path = os.path.join(self.output_dir, fname)\n",
    "        self.write_tfrecord(tfrecord_path)\n",
    "            \n",
    "    def clear_buffer(self):\n",
    "        self.buffer = []"
   ]
  },
  {
   "cell_type": "code",
   "execution_count": 6,
   "metadata": {},
   "outputs": [],
   "source": [
    "tfrecord_writer = TFrecordWriter(1000, 16, 'tfrecords', 'train')"
   ]
  },
  {
   "cell_type": "code",
   "execution_count": 7,
   "metadata": {},
   "outputs": [
    {
     "name": "stdout",
     "output_type": "stream",
     "text": [
      "writing 63 samples in tfrecords/train_0001.tfrecord\n"
     ]
    },
    {
     "data": {
      "application/vnd.jupyter.widget-view+json": {
       "model_id": "a6fdb2183c23442d9ced06f5a55f6b86",
       "version_major": 2,
       "version_minor": 0
      },
      "text/plain": [
       "HBox(children=(IntProgress(value=0, max=63), HTML(value='')))"
      ]
     },
     "metadata": {},
     "output_type": "display_data"
    },
    {
     "name": "stdout",
     "output_type": "stream",
     "text": [
      "\n",
      "writing 63 samples in tfrecords/train_0002.tfrecord\n"
     ]
    },
    {
     "data": {
      "application/vnd.jupyter.widget-view+json": {
       "model_id": "0c9b30893bfa41eb8ba456f7ce8c2a0a",
       "version_major": 2,
       "version_minor": 0
      },
      "text/plain": [
       "HBox(children=(IntProgress(value=0, max=63), HTML(value='')))"
      ]
     },
     "metadata": {},
     "output_type": "display_data"
    },
    {
     "name": "stdout",
     "output_type": "stream",
     "text": [
      "\n",
      "writing 63 samples in tfrecords/train_0003.tfrecord\n"
     ]
    },
    {
     "data": {
      "application/vnd.jupyter.widget-view+json": {
       "model_id": "d85feeb752264c8b9a8be62c784b41e1",
       "version_major": 2,
       "version_minor": 0
      },
      "text/plain": [
       "HBox(children=(IntProgress(value=0, max=63), HTML(value='')))"
      ]
     },
     "metadata": {},
     "output_type": "display_data"
    },
    {
     "name": "stdout",
     "output_type": "stream",
     "text": [
      "\n",
      "writing 63 samples in tfrecords/train_0004.tfrecord\n"
     ]
    },
    {
     "data": {
      "application/vnd.jupyter.widget-view+json": {
       "model_id": "fef24b59f7ec4bc2a6b8a25df09f195a",
       "version_major": 2,
       "version_minor": 0
      },
      "text/plain": [
       "HBox(children=(IntProgress(value=0, max=63), HTML(value='')))"
      ]
     },
     "metadata": {},
     "output_type": "display_data"
    },
    {
     "name": "stdout",
     "output_type": "stream",
     "text": [
      "\n",
      "writing 63 samples in tfrecords/train_0005.tfrecord\n"
     ]
    },
    {
     "data": {
      "application/vnd.jupyter.widget-view+json": {
       "model_id": "6f56497b3baf49d697255287f12c6231",
       "version_major": 2,
       "version_minor": 0
      },
      "text/plain": [
       "HBox(children=(IntProgress(value=0, max=63), HTML(value='')))"
      ]
     },
     "metadata": {},
     "output_type": "display_data"
    },
    {
     "name": "stdout",
     "output_type": "stream",
     "text": [
      "\n",
      "writing 63 samples in tfrecords/train_0006.tfrecord\n"
     ]
    },
    {
     "data": {
      "application/vnd.jupyter.widget-view+json": {
       "model_id": "129604a4877d404aa408b6ba0ef84920",
       "version_major": 2,
       "version_minor": 0
      },
      "text/plain": [
       "HBox(children=(IntProgress(value=0, max=63), HTML(value='')))"
      ]
     },
     "metadata": {},
     "output_type": "display_data"
    },
    {
     "name": "stdout",
     "output_type": "stream",
     "text": [
      "\n",
      "writing 63 samples in tfrecords/train_0007.tfrecord\n"
     ]
    },
    {
     "data": {
      "application/vnd.jupyter.widget-view+json": {
       "model_id": "64f8aa7b639d4fdc8457f5a06d02822d",
       "version_major": 2,
       "version_minor": 0
      },
      "text/plain": [
       "HBox(children=(IntProgress(value=0, max=63), HTML(value='')))"
      ]
     },
     "metadata": {},
     "output_type": "display_data"
    },
    {
     "name": "stdout",
     "output_type": "stream",
     "text": [
      "\n",
      "writing 63 samples in tfrecords/train_0008.tfrecord\n"
     ]
    },
    {
     "data": {
      "application/vnd.jupyter.widget-view+json": {
       "model_id": "6a9ec070ed5d4fcc9f18e12fa5c53024",
       "version_major": 2,
       "version_minor": 0
      },
      "text/plain": [
       "HBox(children=(IntProgress(value=0, max=63), HTML(value='')))"
      ]
     },
     "metadata": {},
     "output_type": "display_data"
    },
    {
     "name": "stdout",
     "output_type": "stream",
     "text": [
      "\n",
      "writing 63 samples in tfrecords/train_0009.tfrecord\n"
     ]
    },
    {
     "data": {
      "application/vnd.jupyter.widget-view+json": {
       "model_id": "56f9e3d337fe4953a8c5b6a2980f1c5d",
       "version_major": 2,
       "version_minor": 0
      },
      "text/plain": [
       "HBox(children=(IntProgress(value=0, max=63), HTML(value='')))"
      ]
     },
     "metadata": {},
     "output_type": "display_data"
    },
    {
     "name": "stdout",
     "output_type": "stream",
     "text": [
      "\n",
      "writing 63 samples in tfrecords/train_00010.tfrecord\n"
     ]
    },
    {
     "data": {
      "application/vnd.jupyter.widget-view+json": {
       "model_id": "c29ded17b7f043159e991dfdbfcfaf5b",
       "version_major": 2,
       "version_minor": 0
      },
      "text/plain": [
       "HBox(children=(IntProgress(value=0, max=63), HTML(value='')))"
      ]
     },
     "metadata": {},
     "output_type": "display_data"
    },
    {
     "name": "stdout",
     "output_type": "stream",
     "text": [
      "\n",
      "writing 63 samples in tfrecords/train_00011.tfrecord\n"
     ]
    },
    {
     "data": {
      "application/vnd.jupyter.widget-view+json": {
       "model_id": "14692c45dbcd4fb1b9c8e4a001d1ba17",
       "version_major": 2,
       "version_minor": 0
      },
      "text/plain": [
       "HBox(children=(IntProgress(value=0, max=63), HTML(value='')))"
      ]
     },
     "metadata": {},
     "output_type": "display_data"
    },
    {
     "name": "stdout",
     "output_type": "stream",
     "text": [
      "\n",
      "writing 63 samples in tfrecords/train_00012.tfrecord\n"
     ]
    },
    {
     "data": {
      "application/vnd.jupyter.widget-view+json": {
       "model_id": "0363363a8e4c42e6a7bc75fa089c7729",
       "version_major": 2,
       "version_minor": 0
      },
      "text/plain": [
       "HBox(children=(IntProgress(value=0, max=63), HTML(value='')))"
      ]
     },
     "metadata": {},
     "output_type": "display_data"
    },
    {
     "name": "stdout",
     "output_type": "stream",
     "text": [
      "\n",
      "writing 63 samples in tfrecords/train_00013.tfrecord\n"
     ]
    },
    {
     "data": {
      "application/vnd.jupyter.widget-view+json": {
       "model_id": "2dc9d1cd0c394c8f886478c58b428431",
       "version_major": 2,
       "version_minor": 0
      },
      "text/plain": [
       "HBox(children=(IntProgress(value=0, max=63), HTML(value='')))"
      ]
     },
     "metadata": {},
     "output_type": "display_data"
    },
    {
     "name": "stdout",
     "output_type": "stream",
     "text": [
      "\n",
      "writing 63 samples in tfrecords/train_00014.tfrecord\n"
     ]
    },
    {
     "data": {
      "application/vnd.jupyter.widget-view+json": {
       "model_id": "b6a06e45158f4dafa345edb8997288f9",
       "version_major": 2,
       "version_minor": 0
      },
      "text/plain": [
       "HBox(children=(IntProgress(value=0, max=63), HTML(value='')))"
      ]
     },
     "metadata": {},
     "output_type": "display_data"
    },
    {
     "name": "stdout",
     "output_type": "stream",
     "text": [
      "\n",
      "writing 63 samples in tfrecords/train_00015.tfrecord\n"
     ]
    },
    {
     "data": {
      "application/vnd.jupyter.widget-view+json": {
       "model_id": "29364c3dd41049cc80bf0c01e803f16c",
       "version_major": 2,
       "version_minor": 0
      },
      "text/plain": [
       "HBox(children=(IntProgress(value=0, max=63), HTML(value='')))"
      ]
     },
     "metadata": {},
     "output_type": "display_data"
    },
    {
     "name": "stdout",
     "output_type": "stream",
     "text": [
      "\n",
      "writing 55 samples in tfrecords/train_00016.tfrecord\n"
     ]
    },
    {
     "data": {
      "application/vnd.jupyter.widget-view+json": {
       "model_id": "3e688548fcfb4c3ebf94c96872d2147d",
       "version_major": 2,
       "version_minor": 0
      },
      "text/plain": [
       "HBox(children=(IntProgress(value=0, max=55), HTML(value='')))"
      ]
     },
     "metadata": {},
     "output_type": "display_data"
    },
    {
     "name": "stdout",
     "output_type": "stream",
     "text": [
      "\n"
     ]
    }
   ],
   "source": [
    "for i in range(1000):\n",
    "    title, vector = generate_sample()\n",
    "    tfrecord_writer.push(title, vector)\n",
    "tfrecord_writer.flush_last()"
   ]
  },
  {
   "cell_type": "code",
   "execution_count": null,
   "metadata": {},
   "outputs": [],
   "source": []
  }
 ],
 "metadata": {
  "accelerator": "TPU",
  "colab": {
   "include_colab_link": true,
   "name": "model_debug.ipynb",
   "provenance": []
  },
  "kernelspec": {
   "display_name": "Python 3",
   "language": "python",
   "name": "python3"
  },
  "language_info": {
   "codemirror_mode": {
    "name": "ipython",
    "version": 3
   },
   "file_extension": ".py",
   "mimetype": "text/x-python",
   "name": "python",
   "nbconvert_exporter": "python",
   "pygments_lexer": "ipython3",
   "version": "3.6.8"
  },
  "widgets": {
   "application/vnd.jupyter.widget-state+json": {
    "state": {
     "00372aae2682486795620b86b97e972f": {
      "model_module": "@jupyter-widgets/controls",
      "model_module_version": "1.5.0",
      "model_name": "ProgressStyleModel",
      "state": {
       "description_width": "initial"
      }
     },
     "007a2513007d4f77886218e62c31a519": {
      "model_module": "@jupyter-widgets/base",
      "model_module_version": "1.2.0",
      "model_name": "LayoutModel",
      "state": {}
     },
     "0105465ecbb0488385648ef7a2636764": {
      "model_module": "@jupyter-widgets/base",
      "model_module_version": "1.2.0",
      "model_name": "LayoutModel",
      "state": {}
     },
     "01a48f85d03b4fd991378b5c0b25ad34": {
      "model_module": "@jupyter-widgets/base",
      "model_module_version": "1.2.0",
      "model_name": "LayoutModel",
      "state": {}
     },
     "01e30766140540d6991e6b5a8cdaef56": {
      "model_module": "@jupyter-widgets/controls",
      "model_module_version": "1.5.0",
      "model_name": "IntProgressModel",
      "state": {
       "bar_style": "success",
       "description": "100%",
       "layout": "IPY_MODEL_b988a1419b774d0081284ab92ede8135",
       "max": 63,
       "style": "IPY_MODEL_240fc575df5b49d8978331c7f3a47353",
       "value": 63
      }
     },
     "0363363a8e4c42e6a7bc75fa089c7729": {
      "model_module": "@jupyter-widgets/controls",
      "model_module_version": "1.5.0",
      "model_name": "HBoxModel",
      "state": {
       "children": [
        "IPY_MODEL_3ea589799e7f4a43a8e9596dc0c2ef4e",
        "IPY_MODEL_1eae193a5c7a4fa8b36a1a4d66623aa1"
       ],
       "layout": "IPY_MODEL_28fb44395da146cf86e32c48a915baa5"
      }
     },
     "051461a8c0b341c0ac6f4289745862e1": {
      "model_module": "@jupyter-widgets/base",
      "model_module_version": "1.2.0",
      "model_name": "LayoutModel",
      "state": {}
     },
     "05dc31b42b264db59e55012f8276f574": {
      "model_module": "@jupyter-widgets/controls",
      "model_module_version": "1.5.0",
      "model_name": "DescriptionStyleModel",
      "state": {
       "description_width": ""
      }
     },
     "067e1152aa2b42a893eec1d6e0a3309b": {
      "model_module": "@jupyter-widgets/controls",
      "model_module_version": "1.5.0",
      "model_name": "DescriptionStyleModel",
      "state": {
       "description_width": ""
      }
     },
     "07a326d139ca41ffb04c394850c89106": {
      "model_module": "@jupyter-widgets/controls",
      "model_module_version": "1.5.0",
      "model_name": "DescriptionStyleModel",
      "state": {
       "description_width": ""
      }
     },
     "0975196bf57345e38df81cb2a9064b9d": {
      "model_module": "@jupyter-widgets/base",
      "model_module_version": "1.2.0",
      "model_name": "LayoutModel",
      "state": {}
     },
     "09f677b5307c4fe3a91ad11cd603709a": {
      "model_module": "@jupyter-widgets/controls",
      "model_module_version": "1.5.0",
      "model_name": "DescriptionStyleModel",
      "state": {
       "description_width": ""
      }
     },
     "0c67c3cb221a4c38b7148b30c6ce0091": {
      "model_module": "@jupyter-widgets/base",
      "model_module_version": "1.2.0",
      "model_name": "LayoutModel",
      "state": {}
     },
     "0c9b30893bfa41eb8ba456f7ce8c2a0a": {
      "model_module": "@jupyter-widgets/controls",
      "model_module_version": "1.5.0",
      "model_name": "HBoxModel",
      "state": {
       "children": [
        "IPY_MODEL_ee9bf7abe23841848e081b092fa4fea2",
        "IPY_MODEL_6d429d90c14c4ebb89c28b65a4b53e62"
       ],
       "layout": "IPY_MODEL_e0efd0571b5748efb0bf8124a18aeb1d"
      }
     },
     "0d7c67ff4d8a4bbbae195b1a08d58977": {
      "model_module": "@jupyter-widgets/base",
      "model_module_version": "1.2.0",
      "model_name": "LayoutModel",
      "state": {}
     },
     "0da224878fe04a1898181339f4da123e": {
      "model_module": "@jupyter-widgets/base",
      "model_module_version": "1.2.0",
      "model_name": "LayoutModel",
      "state": {}
     },
     "0db009e73073468cbfb8c7a5c10c81be": {
      "model_module": "@jupyter-widgets/base",
      "model_module_version": "1.2.0",
      "model_name": "LayoutModel",
      "state": {}
     },
     "0fd45ea8344149e5825ad338387ed83e": {
      "model_module": "@jupyter-widgets/base",
      "model_module_version": "1.2.0",
      "model_name": "LayoutModel",
      "state": {}
     },
     "1239a3794778403783b77d4e958d13d3": {
      "model_module": "@jupyter-widgets/controls",
      "model_module_version": "1.5.0",
      "model_name": "DescriptionStyleModel",
      "state": {
       "description_width": ""
      }
     },
     "1243dd0c2305454b8c77dfd4767ae334": {
      "model_module": "@jupyter-widgets/controls",
      "model_module_version": "1.5.0",
      "model_name": "IntProgressModel",
      "state": {
       "bar_style": "success",
       "description": "100%",
       "layout": "IPY_MODEL_d5161a4bcf284a6392ffbbaa65194b67",
       "max": 63,
       "style": "IPY_MODEL_c8294d3704be4d1082d5dd9b04be7cd0",
       "value": 63
      }
     },
     "129604a4877d404aa408b6ba0ef84920": {
      "model_module": "@jupyter-widgets/controls",
      "model_module_version": "1.5.0",
      "model_name": "HBoxModel",
      "state": {
       "children": [
        "IPY_MODEL_deefcb0fe78f422f978781bf04a0ddc7",
        "IPY_MODEL_f9c86b944a994171ad770aa80425506b"
       ],
       "layout": "IPY_MODEL_3a08510a17e24f3bb5f4bc2911e53348"
      }
     },
     "132fc58e691f46aca2cfdcb7033c04b6": {
      "model_module": "@jupyter-widgets/controls",
      "model_module_version": "1.5.0",
      "model_name": "HTMLModel",
      "state": {
       "layout": "IPY_MODEL_953b8694b93f4f54af791654ae16e78e",
       "style": "IPY_MODEL_067e1152aa2b42a893eec1d6e0a3309b",
       "value": " 63/63 [00:06&lt;00:00,  9.69it/s]"
      }
     },
     "14692c45dbcd4fb1b9c8e4a001d1ba17": {
      "model_module": "@jupyter-widgets/controls",
      "model_module_version": "1.5.0",
      "model_name": "HBoxModel",
      "state": {
       "children": [
        "IPY_MODEL_ee80779f337c443fa2538378b4596d0a",
        "IPY_MODEL_2332853a3d164f5b8e9db59f55d013c0"
       ],
       "layout": "IPY_MODEL_0975196bf57345e38df81cb2a9064b9d"
      }
     },
     "15a4334ca23643cbbde2c618d0fe01e2": {
      "model_module": "@jupyter-widgets/base",
      "model_module_version": "1.2.0",
      "model_name": "LayoutModel",
      "state": {}
     },
     "1b7147f261f649c18b1b67f254cdb0a4": {
      "model_module": "@jupyter-widgets/controls",
      "model_module_version": "1.5.0",
      "model_name": "ProgressStyleModel",
      "state": {
       "description_width": "initial"
      }
     },
     "1c0ae9996d804826ba49411a05f7990a": {
      "model_module": "@jupyter-widgets/controls",
      "model_module_version": "1.5.0",
      "model_name": "HTMLModel",
      "state": {
       "layout": "IPY_MODEL_81bd9d1ed18c44758ba64d5e87082e09",
       "style": "IPY_MODEL_1239a3794778403783b77d4e958d13d3",
       "value": " 63/63 [00:06&lt;00:00,  9.82it/s]"
      }
     },
     "1d5bd1a9c5514df0a8a1103481c588d1": {
      "model_module": "@jupyter-widgets/base",
      "model_module_version": "1.2.0",
      "model_name": "LayoutModel",
      "state": {}
     },
     "1eae193a5c7a4fa8b36a1a4d66623aa1": {
      "model_module": "@jupyter-widgets/controls",
      "model_module_version": "1.5.0",
      "model_name": "HTMLModel",
      "state": {
       "layout": "IPY_MODEL_01a48f85d03b4fd991378b5c0b25ad34",
       "style": "IPY_MODEL_07a326d139ca41ffb04c394850c89106",
       "value": " 63/63 [00:06&lt;00:00,  9.82it/s]"
      }
     },
     "2332853a3d164f5b8e9db59f55d013c0": {
      "model_module": "@jupyter-widgets/controls",
      "model_module_version": "1.5.0",
      "model_name": "HTMLModel",
      "state": {
       "layout": "IPY_MODEL_74abf3fe940647748e812eb5b2bb0834",
       "style": "IPY_MODEL_a00122e25a9544f98e9740b666b16d88",
       "value": " 63/63 [00:06&lt;00:00,  9.92it/s]"
      }
     },
     "240fc575df5b49d8978331c7f3a47353": {
      "model_module": "@jupyter-widgets/controls",
      "model_module_version": "1.5.0",
      "model_name": "ProgressStyleModel",
      "state": {
       "description_width": "initial"
      }
     },
     "28d31b427bd241f793e0843d519519dc": {
      "model_module": "@jupyter-widgets/controls",
      "model_module_version": "1.5.0",
      "model_name": "DescriptionStyleModel",
      "state": {
       "description_width": ""
      }
     },
     "28fb44395da146cf86e32c48a915baa5": {
      "model_module": "@jupyter-widgets/base",
      "model_module_version": "1.2.0",
      "model_name": "LayoutModel",
      "state": {}
     },
     "29364c3dd41049cc80bf0c01e803f16c": {
      "model_module": "@jupyter-widgets/controls",
      "model_module_version": "1.5.0",
      "model_name": "HBoxModel",
      "state": {
       "children": [
        "IPY_MODEL_1243dd0c2305454b8c77dfd4767ae334",
        "IPY_MODEL_480a5c4ad6df455fb5d6ae19ee80e036"
       ],
       "layout": "IPY_MODEL_0c67c3cb221a4c38b7148b30c6ce0091"
      }
     },
     "2d695cc284184ddea2612024acd5e889": {
      "model_module": "@jupyter-widgets/controls",
      "model_module_version": "1.5.0",
      "model_name": "ProgressStyleModel",
      "state": {
       "description_width": "initial"
      }
     },
     "2dc9d1cd0c394c8f886478c58b428431": {
      "model_module": "@jupyter-widgets/controls",
      "model_module_version": "1.5.0",
      "model_name": "HBoxModel",
      "state": {
       "children": [
        "IPY_MODEL_73dfbf5f0c1b462290d84a9d0d4ad4fd",
        "IPY_MODEL_f648ae889e9b41e3b781cd7292beec91"
       ],
       "layout": "IPY_MODEL_6cee2393e9aa4021b0d9616ca7bdffe8"
      }
     },
     "32f35aea6ee34daaa140ff378e5194aa": {
      "model_module": "@jupyter-widgets/controls",
      "model_module_version": "1.5.0",
      "model_name": "DescriptionStyleModel",
      "state": {
       "description_width": ""
      }
     },
     "3318c46f47ee4001ac099e5b0cafbfa4": {
      "model_module": "@jupyter-widgets/base",
      "model_module_version": "1.2.0",
      "model_name": "LayoutModel",
      "state": {}
     },
     "34ce54e892974118b241d205c1f57d56": {
      "model_module": "@jupyter-widgets/base",
      "model_module_version": "1.2.0",
      "model_name": "LayoutModel",
      "state": {}
     },
     "34fb667b72ec40238305232ba3ad1f73": {
      "model_module": "@jupyter-widgets/controls",
      "model_module_version": "1.5.0",
      "model_name": "ProgressStyleModel",
      "state": {
       "description_width": "initial"
      }
     },
     "35dfcadc8a644770aee64316e20e53d5": {
      "model_module": "@jupyter-widgets/controls",
      "model_module_version": "1.5.0",
      "model_name": "HTMLModel",
      "state": {
       "layout": "IPY_MODEL_eb777ff0968644b5b1c3f8d1bc50aaa8",
       "style": "IPY_MODEL_05dc31b42b264db59e55012f8276f574",
       "value": " 63/63 [00:06&lt;00:00,  9.91it/s]"
      }
     },
     "37c2d102e02e4894ab9318e2562a233a": {
      "model_module": "@jupyter-widgets/base",
      "model_module_version": "1.2.0",
      "model_name": "LayoutModel",
      "state": {}
     },
     "3a08510a17e24f3bb5f4bc2911e53348": {
      "model_module": "@jupyter-widgets/base",
      "model_module_version": "1.2.0",
      "model_name": "LayoutModel",
      "state": {}
     },
     "3e688548fcfb4c3ebf94c96872d2147d": {
      "model_module": "@jupyter-widgets/controls",
      "model_module_version": "1.5.0",
      "model_name": "HBoxModel",
      "state": {
       "children": [
        "IPY_MODEL_5ca827b2d3b041cda144ea4cbca81c93",
        "IPY_MODEL_e22cd7e23fe144bdbf982c6521252c17"
       ],
       "layout": "IPY_MODEL_1d5bd1a9c5514df0a8a1103481c588d1"
      }
     },
     "3ea589799e7f4a43a8e9596dc0c2ef4e": {
      "model_module": "@jupyter-widgets/controls",
      "model_module_version": "1.5.0",
      "model_name": "IntProgressModel",
      "state": {
       "bar_style": "success",
       "description": "100%",
       "layout": "IPY_MODEL_968a47376cea4ae9a4e5453ef67b9a43",
       "max": 63,
       "style": "IPY_MODEL_00372aae2682486795620b86b97e972f",
       "value": 63
      }
     },
     "3f8c35a9c75e4e6b9a71cc0f6e83bb95": {
      "model_module": "@jupyter-widgets/controls",
      "model_module_version": "1.5.0",
      "model_name": "DescriptionStyleModel",
      "state": {
       "description_width": ""
      }
     },
     "48090a811c064cf198cc57fb3a0986d4": {
      "model_module": "@jupyter-widgets/base",
      "model_module_version": "1.2.0",
      "model_name": "LayoutModel",
      "state": {}
     },
     "480a5c4ad6df455fb5d6ae19ee80e036": {
      "model_module": "@jupyter-widgets/controls",
      "model_module_version": "1.5.0",
      "model_name": "HTMLModel",
      "state": {
       "layout": "IPY_MODEL_0da224878fe04a1898181339f4da123e",
       "style": "IPY_MODEL_09f677b5307c4fe3a91ad11cd603709a",
       "value": " 63/63 [00:06&lt;00:00,  9.80it/s]"
      }
     },
     "48a1f509576c43d68714eee288ca87bb": {
      "model_module": "@jupyter-widgets/controls",
      "model_module_version": "1.5.0",
      "model_name": "DescriptionStyleModel",
      "state": {
       "description_width": ""
      }
     },
     "48cf39b831ac4afc94a49c5ee81a015f": {
      "model_module": "@jupyter-widgets/base",
      "model_module_version": "1.2.0",
      "model_name": "LayoutModel",
      "state": {}
     },
     "491208dff80f4ccbade5c8d3ec72ee5a": {
      "model_module": "@jupyter-widgets/controls",
      "model_module_version": "1.5.0",
      "model_name": "DescriptionStyleModel",
      "state": {
       "description_width": ""
      }
     },
     "4f47cf98c50248b4a4343ef70796c96c": {
      "model_module": "@jupyter-widgets/controls",
      "model_module_version": "1.5.0",
      "model_name": "ProgressStyleModel",
      "state": {
       "description_width": "initial"
      }
     },
     "4fef10fd1cb944b49a23dca437bd4b80": {
      "model_module": "@jupyter-widgets/base",
      "model_module_version": "1.2.0",
      "model_name": "LayoutModel",
      "state": {}
     },
     "52ba771885c54882bb79d485e1431d7a": {
      "model_module": "@jupyter-widgets/controls",
      "model_module_version": "1.5.0",
      "model_name": "IntProgressModel",
      "state": {
       "bar_style": "success",
       "description": "100%",
       "layout": "IPY_MODEL_0db009e73073468cbfb8c7a5c10c81be",
       "max": 63,
       "style": "IPY_MODEL_f3cc86203ccc42f4a35b0c85c3c04fb5",
       "value": 63
      }
     },
     "53e4d10b7235497eadec949a55b115ed": {
      "model_module": "@jupyter-widgets/controls",
      "model_module_version": "1.5.0",
      "model_name": "IntProgressModel",
      "state": {
       "bar_style": "success",
       "description": "100%",
       "layout": "IPY_MODEL_d320e17549024a299635747fcc2c00c6",
       "max": 63,
       "style": "IPY_MODEL_ae68760f178643ddb9d6390f25a6caba",
       "value": 63
      }
     },
     "56f9e3d337fe4953a8c5b6a2980f1c5d": {
      "model_module": "@jupyter-widgets/controls",
      "model_module_version": "1.5.0",
      "model_name": "HBoxModel",
      "state": {
       "children": [
        "IPY_MODEL_53e4d10b7235497eadec949a55b115ed",
        "IPY_MODEL_84112d9b8792436d8ad37ee079403685"
       ],
       "layout": "IPY_MODEL_8f24c62c0bbc49519b08eb6fbea1a4d5"
      }
     },
     "5ca827b2d3b041cda144ea4cbca81c93": {
      "model_module": "@jupyter-widgets/controls",
      "model_module_version": "1.5.0",
      "model_name": "IntProgressModel",
      "state": {
       "bar_style": "success",
       "description": "100%",
       "layout": "IPY_MODEL_92a8ad5de8204c5798f1c6310c4bfa73",
       "max": 55,
       "style": "IPY_MODEL_94f3bde1ec0a437392bb2f8112d898ff",
       "value": 55
      }
     },
     "60c464cc69e840139ecc50b86f33dd94": {
      "model_module": "@jupyter-widgets/controls",
      "model_module_version": "1.5.0",
      "model_name": "HTMLModel",
      "state": {
       "layout": "IPY_MODEL_15a4334ca23643cbbde2c618d0fe01e2",
       "style": "IPY_MODEL_9d4c7c36ab9b4113933e31c54ee34c92",
       "value": " 63/63 [00:57&lt;00:00,  1.09it/s]"
      }
     },
     "649ad16e8adf4b89953934fb3722e71d": {
      "model_module": "@jupyter-widgets/controls",
      "model_module_version": "1.5.0",
      "model_name": "HTMLModel",
      "state": {
       "layout": "IPY_MODEL_697458e9a3bc46a3a9deed314764937a",
       "style": "IPY_MODEL_ec8259868fa149b38622d0ce3b657010",
       "value": " 63/63 [00:06&lt;00:00,  9.98it/s]"
      }
     },
     "64f8aa7b639d4fdc8457f5a06d02822d": {
      "model_module": "@jupyter-widgets/controls",
      "model_module_version": "1.5.0",
      "model_name": "HBoxModel",
      "state": {
       "children": [
        "IPY_MODEL_773dbffe1538458d89f6deefe06c9044",
        "IPY_MODEL_9371b5945f144c3a9d09c5e1928f5f47"
       ],
       "layout": "IPY_MODEL_3318c46f47ee4001ac099e5b0cafbfa4"
      }
     },
     "697458e9a3bc46a3a9deed314764937a": {
      "model_module": "@jupyter-widgets/base",
      "model_module_version": "1.2.0",
      "model_name": "LayoutModel",
      "state": {}
     },
     "6a9ec070ed5d4fcc9f18e12fa5c53024": {
      "model_module": "@jupyter-widgets/controls",
      "model_module_version": "1.5.0",
      "model_name": "HBoxModel",
      "state": {
       "children": [
        "IPY_MODEL_01e30766140540d6991e6b5a8cdaef56",
        "IPY_MODEL_a4fd7428522946a7bfea7b11aa2b1452"
       ],
       "layout": "IPY_MODEL_ce615246db5a49d5b15488f1824e74b1"
      }
     },
     "6c721f506f934a99b3b69c1c28fe64b6": {
      "model_module": "@jupyter-widgets/base",
      "model_module_version": "1.2.0",
      "model_name": "LayoutModel",
      "state": {}
     },
     "6cee2393e9aa4021b0d9616ca7bdffe8": {
      "model_module": "@jupyter-widgets/base",
      "model_module_version": "1.2.0",
      "model_name": "LayoutModel",
      "state": {}
     },
     "6d429d90c14c4ebb89c28b65a4b53e62": {
      "model_module": "@jupyter-widgets/controls",
      "model_module_version": "1.5.0",
      "model_name": "HTMLModel",
      "state": {
       "layout": "IPY_MODEL_48090a811c064cf198cc57fb3a0986d4",
       "style": "IPY_MODEL_a742bae5cdae41e7b6c9087b4374d2f9",
       "value": " 63/63 [00:12&lt;00:00,  4.89it/s]"
      }
     },
     "6f56497b3baf49d697255287f12c6231": {
      "model_module": "@jupyter-widgets/controls",
      "model_module_version": "1.5.0",
      "model_name": "HBoxModel",
      "state": {
       "children": [
        "IPY_MODEL_70dc9ca561f84dd38bce46e78e0e5124",
        "IPY_MODEL_35dfcadc8a644770aee64316e20e53d5"
       ],
       "layout": "IPY_MODEL_4fef10fd1cb944b49a23dca437bd4b80"
      }
     },
     "707ae47d2f3743d487b52c6d57f43a72": {
      "model_module": "@jupyter-widgets/base",
      "model_module_version": "1.2.0",
      "model_name": "LayoutModel",
      "state": {}
     },
     "70dc9ca561f84dd38bce46e78e0e5124": {
      "model_module": "@jupyter-widgets/controls",
      "model_module_version": "1.5.0",
      "model_name": "IntProgressModel",
      "state": {
       "bar_style": "success",
       "description": "100%",
       "layout": "IPY_MODEL_950baaf70b0f4c9aa518a0bb6ca2040d",
       "max": 63,
       "style": "IPY_MODEL_dd3635f012da4f6a8a0bb3d52c6cd35b",
       "value": 63
      }
     },
     "733f256bc3e248e2a97b7588e42ddc06": {
      "model_module": "@jupyter-widgets/controls",
      "model_module_version": "1.5.0",
      "model_name": "DescriptionStyleModel",
      "state": {
       "description_width": ""
      }
     },
     "73dfbf5f0c1b462290d84a9d0d4ad4fd": {
      "model_module": "@jupyter-widgets/controls",
      "model_module_version": "1.5.0",
      "model_name": "IntProgressModel",
      "state": {
       "bar_style": "success",
       "description": "100%",
       "layout": "IPY_MODEL_a6e7a039f223460ba281ca0532f8a4e2",
       "max": 63,
       "style": "IPY_MODEL_34fb667b72ec40238305232ba3ad1f73",
       "value": 63
      }
     },
     "74abf3fe940647748e812eb5b2bb0834": {
      "model_module": "@jupyter-widgets/base",
      "model_module_version": "1.2.0",
      "model_name": "LayoutModel",
      "state": {}
     },
     "771747d7331342e187d7f9465055c9c9": {
      "model_module": "@jupyter-widgets/controls",
      "model_module_version": "1.5.0",
      "model_name": "ProgressStyleModel",
      "state": {
       "description_width": "initial"
      }
     },
     "773dbffe1538458d89f6deefe06c9044": {
      "model_module": "@jupyter-widgets/controls",
      "model_module_version": "1.5.0",
      "model_name": "IntProgressModel",
      "state": {
       "bar_style": "success",
       "description": "100%",
       "layout": "IPY_MODEL_051461a8c0b341c0ac6f4289745862e1",
       "max": 63,
       "style": "IPY_MODEL_2d695cc284184ddea2612024acd5e889",
       "value": 63
      }
     },
     "81bd9d1ed18c44758ba64d5e87082e09": {
      "model_module": "@jupyter-widgets/base",
      "model_module_version": "1.2.0",
      "model_name": "LayoutModel",
      "state": {}
     },
     "84112d9b8792436d8ad37ee079403685": {
      "model_module": "@jupyter-widgets/controls",
      "model_module_version": "1.5.0",
      "model_name": "HTMLModel",
      "state": {
       "layout": "IPY_MODEL_37c2d102e02e4894ab9318e2562a233a",
       "style": "IPY_MODEL_28d31b427bd241f793e0843d519519dc",
       "value": " 63/63 [00:06&lt;00:00,  9.89it/s]"
      }
     },
     "8f24c62c0bbc49519b08eb6fbea1a4d5": {
      "model_module": "@jupyter-widgets/base",
      "model_module_version": "1.2.0",
      "model_name": "LayoutModel",
      "state": {}
     },
     "8f5d0d1f399a4998b31161e667ef41e2": {
      "model_module": "@jupyter-widgets/controls",
      "model_module_version": "1.5.0",
      "model_name": "IntProgressModel",
      "state": {
       "bar_style": "success",
       "description": "100%",
       "layout": "IPY_MODEL_f1b7789d18fd43f4bb040f2dabd9002b",
       "max": 63,
       "style": "IPY_MODEL_93423c96e1ab4259aa538b5581ced001",
       "value": 63
      }
     },
     "92a8ad5de8204c5798f1c6310c4bfa73": {
      "model_module": "@jupyter-widgets/base",
      "model_module_version": "1.2.0",
      "model_name": "LayoutModel",
      "state": {}
     },
     "93423c96e1ab4259aa538b5581ced001": {
      "model_module": "@jupyter-widgets/controls",
      "model_module_version": "1.5.0",
      "model_name": "ProgressStyleModel",
      "state": {
       "description_width": "initial"
      }
     },
     "9371b5945f144c3a9d09c5e1928f5f47": {
      "model_module": "@jupyter-widgets/controls",
      "model_module_version": "1.5.0",
      "model_name": "HTMLModel",
      "state": {
       "layout": "IPY_MODEL_0d7c67ff4d8a4bbbae195b1a08d58977",
       "style": "IPY_MODEL_491208dff80f4ccbade5c8d3ec72ee5a",
       "value": " 63/63 [00:06&lt;00:00,  9.87it/s]"
      }
     },
     "94f3bde1ec0a437392bb2f8112d898ff": {
      "model_module": "@jupyter-widgets/controls",
      "model_module_version": "1.5.0",
      "model_name": "ProgressStyleModel",
      "state": {
       "description_width": "initial"
      }
     },
     "950baaf70b0f4c9aa518a0bb6ca2040d": {
      "model_module": "@jupyter-widgets/base",
      "model_module_version": "1.2.0",
      "model_name": "LayoutModel",
      "state": {}
     },
     "953b8694b93f4f54af791654ae16e78e": {
      "model_module": "@jupyter-widgets/base",
      "model_module_version": "1.2.0",
      "model_name": "LayoutModel",
      "state": {}
     },
     "968a47376cea4ae9a4e5453ef67b9a43": {
      "model_module": "@jupyter-widgets/base",
      "model_module_version": "1.2.0",
      "model_name": "LayoutModel",
      "state": {}
     },
     "9d4c7c36ab9b4113933e31c54ee34c92": {
      "model_module": "@jupyter-widgets/controls",
      "model_module_version": "1.5.0",
      "model_name": "DescriptionStyleModel",
      "state": {
       "description_width": ""
      }
     },
     "a00122e25a9544f98e9740b666b16d88": {
      "model_module": "@jupyter-widgets/controls",
      "model_module_version": "1.5.0",
      "model_name": "DescriptionStyleModel",
      "state": {
       "description_width": ""
      }
     },
     "a20f8ea8517a46a9b2aa724d04221f0c": {
      "model_module": "@jupyter-widgets/base",
      "model_module_version": "1.2.0",
      "model_name": "LayoutModel",
      "state": {}
     },
     "a474b228a03048eba29078ac50aa85fb": {
      "model_module": "@jupyter-widgets/base",
      "model_module_version": "1.2.0",
      "model_name": "LayoutModel",
      "state": {}
     },
     "a4fd7428522946a7bfea7b11aa2b1452": {
      "model_module": "@jupyter-widgets/controls",
      "model_module_version": "1.5.0",
      "model_name": "HTMLModel",
      "state": {
       "layout": "IPY_MODEL_a20f8ea8517a46a9b2aa724d04221f0c",
       "style": "IPY_MODEL_32f35aea6ee34daaa140ff378e5194aa",
       "value": " 63/63 [00:12&lt;00:00,  4.92it/s]"
      }
     },
     "a6e7a039f223460ba281ca0532f8a4e2": {
      "model_module": "@jupyter-widgets/base",
      "model_module_version": "1.2.0",
      "model_name": "LayoutModel",
      "state": {}
     },
     "a6fdb2183c23442d9ced06f5a55f6b86": {
      "model_module": "@jupyter-widgets/controls",
      "model_module_version": "1.5.0",
      "model_name": "HBoxModel",
      "state": {
       "children": [
        "IPY_MODEL_e2b5ccfdf81a4fc3a9c4872fd48f06d9",
        "IPY_MODEL_60c464cc69e840139ecc50b86f33dd94"
       ],
       "layout": "IPY_MODEL_34ce54e892974118b241d205c1f57d56"
      }
     },
     "a742bae5cdae41e7b6c9087b4374d2f9": {
      "model_module": "@jupyter-widgets/controls",
      "model_module_version": "1.5.0",
      "model_name": "DescriptionStyleModel",
      "state": {
       "description_width": ""
      }
     },
     "acde791916cb43ce9a6263c589cadb97": {
      "model_module": "@jupyter-widgets/controls",
      "model_module_version": "1.5.0",
      "model_name": "ProgressStyleModel",
      "state": {
       "description_width": "initial"
      }
     },
     "ae68760f178643ddb9d6390f25a6caba": {
      "model_module": "@jupyter-widgets/controls",
      "model_module_version": "1.5.0",
      "model_name": "ProgressStyleModel",
      "state": {
       "description_width": "initial"
      }
     },
     "b1e04abbd62c4088be44930d9cd85bf5": {
      "model_module": "@jupyter-widgets/controls",
      "model_module_version": "1.5.0",
      "model_name": "HTMLModel",
      "state": {
       "layout": "IPY_MODEL_c11c00908c5245ee9fdb89de90094033",
       "style": "IPY_MODEL_48a1f509576c43d68714eee288ca87bb",
       "value": " 63/63 [00:12&lt;00:00,  4.95it/s]"
      }
     },
     "b6a06e45158f4dafa345edb8997288f9": {
      "model_module": "@jupyter-widgets/controls",
      "model_module_version": "1.5.0",
      "model_name": "HBoxModel",
      "state": {
       "children": [
        "IPY_MODEL_db02b31fb57249219414d98e0cbb34b0",
        "IPY_MODEL_649ad16e8adf4b89953934fb3722e71d"
       ],
       "layout": "IPY_MODEL_e0f5e592b7fb46459031646facc871d8"
      }
     },
     "b988a1419b774d0081284ab92ede8135": {
      "model_module": "@jupyter-widgets/base",
      "model_module_version": "1.2.0",
      "model_name": "LayoutModel",
      "state": {}
     },
     "bd9d20cb02d04f9faaede831d6b2801c": {
      "model_module": "@jupyter-widgets/controls",
      "model_module_version": "1.5.0",
      "model_name": "IntProgressModel",
      "state": {
       "bar_style": "success",
       "description": "100%",
       "layout": "IPY_MODEL_e195d12bfc904994ba5212a557f19103",
       "max": 63,
       "style": "IPY_MODEL_c9f62f11d5bc4354b15692de159eb446",
       "value": 63
      }
     },
     "c11c00908c5245ee9fdb89de90094033": {
      "model_module": "@jupyter-widgets/base",
      "model_module_version": "1.2.0",
      "model_name": "LayoutModel",
      "state": {}
     },
     "c294b582360e4d6e8ae292c94c4f1bf7": {
      "model_module": "@jupyter-widgets/base",
      "model_module_version": "1.2.0",
      "model_name": "LayoutModel",
      "state": {}
     },
     "c29ded17b7f043159e991dfdbfcfaf5b": {
      "model_module": "@jupyter-widgets/controls",
      "model_module_version": "1.5.0",
      "model_name": "HBoxModel",
      "state": {
       "children": [
        "IPY_MODEL_8f5d0d1f399a4998b31161e667ef41e2",
        "IPY_MODEL_132fc58e691f46aca2cfdcb7033c04b6"
       ],
       "layout": "IPY_MODEL_007a2513007d4f77886218e62c31a519"
      }
     },
     "c8294d3704be4d1082d5dd9b04be7cd0": {
      "model_module": "@jupyter-widgets/controls",
      "model_module_version": "1.5.0",
      "model_name": "ProgressStyleModel",
      "state": {
       "description_width": "initial"
      }
     },
     "c9f62f11d5bc4354b15692de159eb446": {
      "model_module": "@jupyter-widgets/controls",
      "model_module_version": "1.5.0",
      "model_name": "ProgressStyleModel",
      "state": {
       "description_width": "initial"
      }
     },
     "cc1ca0dd402e4c1f9237c01646a64b7b": {
      "model_module": "@jupyter-widgets/base",
      "model_module_version": "1.2.0",
      "model_name": "LayoutModel",
      "state": {}
     },
     "cceb61ce7f5b4877995c50459e385b60": {
      "model_module": "@jupyter-widgets/controls",
      "model_module_version": "1.5.0",
      "model_name": "DescriptionStyleModel",
      "state": {
       "description_width": ""
      }
     },
     "ce615246db5a49d5b15488f1824e74b1": {
      "model_module": "@jupyter-widgets/base",
      "model_module_version": "1.2.0",
      "model_name": "LayoutModel",
      "state": {}
     },
     "d320e17549024a299635747fcc2c00c6": {
      "model_module": "@jupyter-widgets/base",
      "model_module_version": "1.2.0",
      "model_name": "LayoutModel",
      "state": {}
     },
     "d5161a4bcf284a6392ffbbaa65194b67": {
      "model_module": "@jupyter-widgets/base",
      "model_module_version": "1.2.0",
      "model_name": "LayoutModel",
      "state": {}
     },
     "d85feeb752264c8b9a8be62c784b41e1": {
      "model_module": "@jupyter-widgets/controls",
      "model_module_version": "1.5.0",
      "model_name": "HBoxModel",
      "state": {
       "children": [
        "IPY_MODEL_52ba771885c54882bb79d485e1431d7a",
        "IPY_MODEL_1c0ae9996d804826ba49411a05f7990a"
       ],
       "layout": "IPY_MODEL_cc1ca0dd402e4c1f9237c01646a64b7b"
      }
     },
     "db02b31fb57249219414d98e0cbb34b0": {
      "model_module": "@jupyter-widgets/controls",
      "model_module_version": "1.5.0",
      "model_name": "IntProgressModel",
      "state": {
       "bar_style": "success",
       "description": "100%",
       "layout": "IPY_MODEL_f6898e3f87064bdea385a150e17d9764",
       "max": 63,
       "style": "IPY_MODEL_1b7147f261f649c18b1b67f254cdb0a4",
       "value": 63
      }
     },
     "dd3635f012da4f6a8a0bb3d52c6cd35b": {
      "model_module": "@jupyter-widgets/controls",
      "model_module_version": "1.5.0",
      "model_name": "ProgressStyleModel",
      "state": {
       "description_width": "initial"
      }
     },
     "deefcb0fe78f422f978781bf04a0ddc7": {
      "model_module": "@jupyter-widgets/controls",
      "model_module_version": "1.5.0",
      "model_name": "IntProgressModel",
      "state": {
       "bar_style": "success",
       "description": "100%",
       "layout": "IPY_MODEL_0105465ecbb0488385648ef7a2636764",
       "max": 63,
       "style": "IPY_MODEL_4f47cf98c50248b4a4343ef70796c96c",
       "value": 63
      }
     },
     "e0efd0571b5748efb0bf8124a18aeb1d": {
      "model_module": "@jupyter-widgets/base",
      "model_module_version": "1.2.0",
      "model_name": "LayoutModel",
      "state": {}
     },
     "e0f5e592b7fb46459031646facc871d8": {
      "model_module": "@jupyter-widgets/base",
      "model_module_version": "1.2.0",
      "model_name": "LayoutModel",
      "state": {}
     },
     "e195d12bfc904994ba5212a557f19103": {
      "model_module": "@jupyter-widgets/base",
      "model_module_version": "1.2.0",
      "model_name": "LayoutModel",
      "state": {}
     },
     "e22cd7e23fe144bdbf982c6521252c17": {
      "model_module": "@jupyter-widgets/controls",
      "model_module_version": "1.5.0",
      "model_name": "HTMLModel",
      "state": {
       "layout": "IPY_MODEL_0fd45ea8344149e5825ad338387ed83e",
       "style": "IPY_MODEL_733f256bc3e248e2a97b7588e42ddc06",
       "value": " 55/55 [00:05&lt;00:00,  9.87it/s]"
      }
     },
     "e2b5ccfdf81a4fc3a9c4872fd48f06d9": {
      "model_module": "@jupyter-widgets/controls",
      "model_module_version": "1.5.0",
      "model_name": "IntProgressModel",
      "state": {
       "bar_style": "success",
       "description": "100%",
       "layout": "IPY_MODEL_48cf39b831ac4afc94a49c5ee81a015f",
       "max": 63,
       "style": "IPY_MODEL_acde791916cb43ce9a6263c589cadb97",
       "value": 63
      }
     },
     "eb777ff0968644b5b1c3f8d1bc50aaa8": {
      "model_module": "@jupyter-widgets/base",
      "model_module_version": "1.2.0",
      "model_name": "LayoutModel",
      "state": {}
     },
     "ec8259868fa149b38622d0ce3b657010": {
      "model_module": "@jupyter-widgets/controls",
      "model_module_version": "1.5.0",
      "model_name": "DescriptionStyleModel",
      "state": {
       "description_width": ""
      }
     },
     "ee80779f337c443fa2538378b4596d0a": {
      "model_module": "@jupyter-widgets/controls",
      "model_module_version": "1.5.0",
      "model_name": "IntProgressModel",
      "state": {
       "bar_style": "success",
       "description": "100%",
       "layout": "IPY_MODEL_a474b228a03048eba29078ac50aa85fb",
       "max": 63,
       "style": "IPY_MODEL_f68b6cb39a8e4faf8397e050c86bfabf",
       "value": 63
      }
     },
     "ee9bf7abe23841848e081b092fa4fea2": {
      "model_module": "@jupyter-widgets/controls",
      "model_module_version": "1.5.0",
      "model_name": "IntProgressModel",
      "state": {
       "bar_style": "success",
       "description": "100%",
       "layout": "IPY_MODEL_c294b582360e4d6e8ae292c94c4f1bf7",
       "max": 63,
       "style": "IPY_MODEL_771747d7331342e187d7f9465055c9c9",
       "value": 63
      }
     },
     "f1b7789d18fd43f4bb040f2dabd9002b": {
      "model_module": "@jupyter-widgets/base",
      "model_module_version": "1.2.0",
      "model_name": "LayoutModel",
      "state": {}
     },
     "f3cc86203ccc42f4a35b0c85c3c04fb5": {
      "model_module": "@jupyter-widgets/controls",
      "model_module_version": "1.5.0",
      "model_name": "ProgressStyleModel",
      "state": {
       "description_width": "initial"
      }
     },
     "f648ae889e9b41e3b781cd7292beec91": {
      "model_module": "@jupyter-widgets/controls",
      "model_module_version": "1.5.0",
      "model_name": "HTMLModel",
      "state": {
       "layout": "IPY_MODEL_f8fce65a858e431b88948faf430d7ea8",
       "style": "IPY_MODEL_3f8c35a9c75e4e6b9a71cc0f6e83bb95",
       "value": " 63/63 [00:06&lt;00:00,  9.95it/s]"
      }
     },
     "f6898e3f87064bdea385a150e17d9764": {
      "model_module": "@jupyter-widgets/base",
      "model_module_version": "1.2.0",
      "model_name": "LayoutModel",
      "state": {}
     },
     "f68b6cb39a8e4faf8397e050c86bfabf": {
      "model_module": "@jupyter-widgets/controls",
      "model_module_version": "1.5.0",
      "model_name": "ProgressStyleModel",
      "state": {
       "description_width": "initial"
      }
     },
     "f8fce65a858e431b88948faf430d7ea8": {
      "model_module": "@jupyter-widgets/base",
      "model_module_version": "1.2.0",
      "model_name": "LayoutModel",
      "state": {}
     },
     "f9c86b944a994171ad770aa80425506b": {
      "model_module": "@jupyter-widgets/controls",
      "model_module_version": "1.5.0",
      "model_name": "HTMLModel",
      "state": {
       "layout": "IPY_MODEL_707ae47d2f3743d487b52c6d57f43a72",
       "style": "IPY_MODEL_cceb61ce7f5b4877995c50459e385b60",
       "value": " 63/63 [00:12&lt;00:00,  4.92it/s]"
      }
     },
     "fef24b59f7ec4bc2a6b8a25df09f195a": {
      "model_module": "@jupyter-widgets/controls",
      "model_module_version": "1.5.0",
      "model_name": "HBoxModel",
      "state": {
       "children": [
        "IPY_MODEL_bd9d20cb02d04f9faaede831d6b2801c",
        "IPY_MODEL_b1e04abbd62c4088be44930d9cd85bf5"
       ],
       "layout": "IPY_MODEL_6c721f506f934a99b3b69c1c28fe64b6"
      }
     }
    },
    "version_major": 2,
    "version_minor": 0
   }
  }
 },
 "nbformat": 4,
 "nbformat_minor": 4
}
